{
  "nbformat": 4,
  "nbformat_minor": 0,
  "metadata": {
    "colab": {
      "provenance": [],
      "collapsed_sections": []
    },
    "kernelspec": {
      "name": "python3",
      "display_name": "Python 3"
    },
    "language_info": {
      "name": "python"
    }
  },
  "cells": [
    {
      "cell_type": "code",
      "execution_count": null,
      "metadata": {
        "id": "JYftiH_7fKh3",
        "colab": {
          "base_uri": "https://localhost:8080/"
        },
        "outputId": "2ae92d0f-9ec1-479d-a7c7-c3ffb9502922"
      },
      "outputs": [
        {
          "output_type": "stream",
          "name": "stderr",
          "text": [
            "/usr/local/lib/python3.7/dist-packages/IPython/core/interactiveshell.py:3326: DtypeWarning: Columns (47) have mixed types.Specify dtype option on import or set low_memory=False.\n",
            "  exec(code_obj, self.user_global_ns, self.user_ns)\n"
          ]
        }
      ],
      "source": [
        "import numpy as np\n",
        "import pandas as pd\n",
        "\n",
        "data=pd.read_csv(\"/content/loan.csv\")"
      ]
    },
    {
      "cell_type": "markdown",
      "source": [
        " Data Cleaning"
      ],
      "metadata": {
        "id": "hyffeKeJnVgd"
      }
    },
    {
      "cell_type": "code",
      "source": [
        "data.head()"
      ],
      "metadata": {
        "id": "4BgflzlYsfkW",
        "colab": {
          "base_uri": "https://localhost:8080/",
          "height": 386
        },
        "outputId": "213bff8d-f01f-4737-bb0e-7129ab90625d"
      },
      "execution_count": null,
      "outputs": [
        {
          "output_type": "execute_result",
          "data": {
            "text/plain": [
              "        id  member_id  loan_amnt  funded_amnt  funded_amnt_inv        term  \\\n",
              "0  1077501    1296599       5000         5000           4975.0   36 months   \n",
              "1  1077430    1314167       2500         2500           2500.0   60 months   \n",
              "2  1077175    1313524       2400         2400           2400.0   36 months   \n",
              "3  1076863    1277178      10000        10000          10000.0   36 months   \n",
              "4  1075358    1311748       3000         3000           3000.0   60 months   \n",
              "\n",
              "  int_rate  installment grade sub_grade  ... num_tl_90g_dpd_24m  \\\n",
              "0   10.65%       162.87     B        B2  ...                NaN   \n",
              "1   15.27%        59.83     C        C4  ...                NaN   \n",
              "2   15.96%        84.33     C        C5  ...                NaN   \n",
              "3   13.49%       339.31     C        C1  ...                NaN   \n",
              "4   12.69%        67.79     B        B5  ...                NaN   \n",
              "\n",
              "  num_tl_op_past_12m pct_tl_nvr_dlq  percent_bc_gt_75 pub_rec_bankruptcies  \\\n",
              "0                NaN            NaN               NaN                  0.0   \n",
              "1                NaN            NaN               NaN                  0.0   \n",
              "2                NaN            NaN               NaN                  0.0   \n",
              "3                NaN            NaN               NaN                  0.0   \n",
              "4                NaN            NaN               NaN                  0.0   \n",
              "\n",
              "  tax_liens tot_hi_cred_lim total_bal_ex_mort total_bc_limit  \\\n",
              "0       0.0             NaN               NaN            NaN   \n",
              "1       0.0             NaN               NaN            NaN   \n",
              "2       0.0             NaN               NaN            NaN   \n",
              "3       0.0             NaN               NaN            NaN   \n",
              "4       0.0             NaN               NaN            NaN   \n",
              "\n",
              "  total_il_high_credit_limit  \n",
              "0                        NaN  \n",
              "1                        NaN  \n",
              "2                        NaN  \n",
              "3                        NaN  \n",
              "4                        NaN  \n",
              "\n",
              "[5 rows x 111 columns]"
            ],
            "text/html": [
              "\n",
              "  <div id=\"df-8a72af0b-b19b-49bc-9144-dd6d239f1e25\">\n",
              "    <div class=\"colab-df-container\">\n",
              "      <div>\n",
              "<style scoped>\n",
              "    .dataframe tbody tr th:only-of-type {\n",
              "        vertical-align: middle;\n",
              "    }\n",
              "\n",
              "    .dataframe tbody tr th {\n",
              "        vertical-align: top;\n",
              "    }\n",
              "\n",
              "    .dataframe thead th {\n",
              "        text-align: right;\n",
              "    }\n",
              "</style>\n",
              "<table border=\"1\" class=\"dataframe\">\n",
              "  <thead>\n",
              "    <tr style=\"text-align: right;\">\n",
              "      <th></th>\n",
              "      <th>id</th>\n",
              "      <th>member_id</th>\n",
              "      <th>loan_amnt</th>\n",
              "      <th>funded_amnt</th>\n",
              "      <th>funded_amnt_inv</th>\n",
              "      <th>term</th>\n",
              "      <th>int_rate</th>\n",
              "      <th>installment</th>\n",
              "      <th>grade</th>\n",
              "      <th>sub_grade</th>\n",
              "      <th>...</th>\n",
              "      <th>num_tl_90g_dpd_24m</th>\n",
              "      <th>num_tl_op_past_12m</th>\n",
              "      <th>pct_tl_nvr_dlq</th>\n",
              "      <th>percent_bc_gt_75</th>\n",
              "      <th>pub_rec_bankruptcies</th>\n",
              "      <th>tax_liens</th>\n",
              "      <th>tot_hi_cred_lim</th>\n",
              "      <th>total_bal_ex_mort</th>\n",
              "      <th>total_bc_limit</th>\n",
              "      <th>total_il_high_credit_limit</th>\n",
              "    </tr>\n",
              "  </thead>\n",
              "  <tbody>\n",
              "    <tr>\n",
              "      <th>0</th>\n",
              "      <td>1077501</td>\n",
              "      <td>1296599</td>\n",
              "      <td>5000</td>\n",
              "      <td>5000</td>\n",
              "      <td>4975.0</td>\n",
              "      <td>36 months</td>\n",
              "      <td>10.65%</td>\n",
              "      <td>162.87</td>\n",
              "      <td>B</td>\n",
              "      <td>B2</td>\n",
              "      <td>...</td>\n",
              "      <td>NaN</td>\n",
              "      <td>NaN</td>\n",
              "      <td>NaN</td>\n",
              "      <td>NaN</td>\n",
              "      <td>0.0</td>\n",
              "      <td>0.0</td>\n",
              "      <td>NaN</td>\n",
              "      <td>NaN</td>\n",
              "      <td>NaN</td>\n",
              "      <td>NaN</td>\n",
              "    </tr>\n",
              "    <tr>\n",
              "      <th>1</th>\n",
              "      <td>1077430</td>\n",
              "      <td>1314167</td>\n",
              "      <td>2500</td>\n",
              "      <td>2500</td>\n",
              "      <td>2500.0</td>\n",
              "      <td>60 months</td>\n",
              "      <td>15.27%</td>\n",
              "      <td>59.83</td>\n",
              "      <td>C</td>\n",
              "      <td>C4</td>\n",
              "      <td>...</td>\n",
              "      <td>NaN</td>\n",
              "      <td>NaN</td>\n",
              "      <td>NaN</td>\n",
              "      <td>NaN</td>\n",
              "      <td>0.0</td>\n",
              "      <td>0.0</td>\n",
              "      <td>NaN</td>\n",
              "      <td>NaN</td>\n",
              "      <td>NaN</td>\n",
              "      <td>NaN</td>\n",
              "    </tr>\n",
              "    <tr>\n",
              "      <th>2</th>\n",
              "      <td>1077175</td>\n",
              "      <td>1313524</td>\n",
              "      <td>2400</td>\n",
              "      <td>2400</td>\n",
              "      <td>2400.0</td>\n",
              "      <td>36 months</td>\n",
              "      <td>15.96%</td>\n",
              "      <td>84.33</td>\n",
              "      <td>C</td>\n",
              "      <td>C5</td>\n",
              "      <td>...</td>\n",
              "      <td>NaN</td>\n",
              "      <td>NaN</td>\n",
              "      <td>NaN</td>\n",
              "      <td>NaN</td>\n",
              "      <td>0.0</td>\n",
              "      <td>0.0</td>\n",
              "      <td>NaN</td>\n",
              "      <td>NaN</td>\n",
              "      <td>NaN</td>\n",
              "      <td>NaN</td>\n",
              "    </tr>\n",
              "    <tr>\n",
              "      <th>3</th>\n",
              "      <td>1076863</td>\n",
              "      <td>1277178</td>\n",
              "      <td>10000</td>\n",
              "      <td>10000</td>\n",
              "      <td>10000.0</td>\n",
              "      <td>36 months</td>\n",
              "      <td>13.49%</td>\n",
              "      <td>339.31</td>\n",
              "      <td>C</td>\n",
              "      <td>C1</td>\n",
              "      <td>...</td>\n",
              "      <td>NaN</td>\n",
              "      <td>NaN</td>\n",
              "      <td>NaN</td>\n",
              "      <td>NaN</td>\n",
              "      <td>0.0</td>\n",
              "      <td>0.0</td>\n",
              "      <td>NaN</td>\n",
              "      <td>NaN</td>\n",
              "      <td>NaN</td>\n",
              "      <td>NaN</td>\n",
              "    </tr>\n",
              "    <tr>\n",
              "      <th>4</th>\n",
              "      <td>1075358</td>\n",
              "      <td>1311748</td>\n",
              "      <td>3000</td>\n",
              "      <td>3000</td>\n",
              "      <td>3000.0</td>\n",
              "      <td>60 months</td>\n",
              "      <td>12.69%</td>\n",
              "      <td>67.79</td>\n",
              "      <td>B</td>\n",
              "      <td>B5</td>\n",
              "      <td>...</td>\n",
              "      <td>NaN</td>\n",
              "      <td>NaN</td>\n",
              "      <td>NaN</td>\n",
              "      <td>NaN</td>\n",
              "      <td>0.0</td>\n",
              "      <td>0.0</td>\n",
              "      <td>NaN</td>\n",
              "      <td>NaN</td>\n",
              "      <td>NaN</td>\n",
              "      <td>NaN</td>\n",
              "    </tr>\n",
              "  </tbody>\n",
              "</table>\n",
              "<p>5 rows × 111 columns</p>\n",
              "</div>\n",
              "      <button class=\"colab-df-convert\" onclick=\"convertToInteractive('df-8a72af0b-b19b-49bc-9144-dd6d239f1e25')\"\n",
              "              title=\"Convert this dataframe to an interactive table.\"\n",
              "              style=\"display:none;\">\n",
              "        \n",
              "  <svg xmlns=\"http://www.w3.org/2000/svg\" height=\"24px\"viewBox=\"0 0 24 24\"\n",
              "       width=\"24px\">\n",
              "    <path d=\"M0 0h24v24H0V0z\" fill=\"none\"/>\n",
              "    <path d=\"M18.56 5.44l.94 2.06.94-2.06 2.06-.94-2.06-.94-.94-2.06-.94 2.06-2.06.94zm-11 1L8.5 8.5l.94-2.06 2.06-.94-2.06-.94L8.5 2.5l-.94 2.06-2.06.94zm10 10l.94 2.06.94-2.06 2.06-.94-2.06-.94-.94-2.06-.94 2.06-2.06.94z\"/><path d=\"M17.41 7.96l-1.37-1.37c-.4-.4-.92-.59-1.43-.59-.52 0-1.04.2-1.43.59L10.3 9.45l-7.72 7.72c-.78.78-.78 2.05 0 2.83L4 21.41c.39.39.9.59 1.41.59.51 0 1.02-.2 1.41-.59l7.78-7.78 2.81-2.81c.8-.78.8-2.07 0-2.86zM5.41 20L4 18.59l7.72-7.72 1.47 1.35L5.41 20z\"/>\n",
              "  </svg>\n",
              "      </button>\n",
              "      \n",
              "  <style>\n",
              "    .colab-df-container {\n",
              "      display:flex;\n",
              "      flex-wrap:wrap;\n",
              "      gap: 12px;\n",
              "    }\n",
              "\n",
              "    .colab-df-convert {\n",
              "      background-color: #E8F0FE;\n",
              "      border: none;\n",
              "      border-radius: 50%;\n",
              "      cursor: pointer;\n",
              "      display: none;\n",
              "      fill: #1967D2;\n",
              "      height: 32px;\n",
              "      padding: 0 0 0 0;\n",
              "      width: 32px;\n",
              "    }\n",
              "\n",
              "    .colab-df-convert:hover {\n",
              "      background-color: #E2EBFA;\n",
              "      box-shadow: 0px 1px 2px rgba(60, 64, 67, 0.3), 0px 1px 3px 1px rgba(60, 64, 67, 0.15);\n",
              "      fill: #174EA6;\n",
              "    }\n",
              "\n",
              "    [theme=dark] .colab-df-convert {\n",
              "      background-color: #3B4455;\n",
              "      fill: #D2E3FC;\n",
              "    }\n",
              "\n",
              "    [theme=dark] .colab-df-convert:hover {\n",
              "      background-color: #434B5C;\n",
              "      box-shadow: 0px 1px 3px 1px rgba(0, 0, 0, 0.15);\n",
              "      filter: drop-shadow(0px 1px 2px rgba(0, 0, 0, 0.3));\n",
              "      fill: #FFFFFF;\n",
              "    }\n",
              "  </style>\n",
              "\n",
              "      <script>\n",
              "        const buttonEl =\n",
              "          document.querySelector('#df-8a72af0b-b19b-49bc-9144-dd6d239f1e25 button.colab-df-convert');\n",
              "        buttonEl.style.display =\n",
              "          google.colab.kernel.accessAllowed ? 'block' : 'none';\n",
              "\n",
              "        async function convertToInteractive(key) {\n",
              "          const element = document.querySelector('#df-8a72af0b-b19b-49bc-9144-dd6d239f1e25');\n",
              "          const dataTable =\n",
              "            await google.colab.kernel.invokeFunction('convertToInteractive',\n",
              "                                                     [key], {});\n",
              "          if (!dataTable) return;\n",
              "\n",
              "          const docLinkHtml = 'Like what you see? Visit the ' +\n",
              "            '<a target=\"_blank\" href=https://colab.research.google.com/notebooks/data_table.ipynb>data table notebook</a>'\n",
              "            + ' to learn more about interactive tables.';\n",
              "          element.innerHTML = '';\n",
              "          dataTable['output_type'] = 'display_data';\n",
              "          await google.colab.output.renderOutput(dataTable, element);\n",
              "          const docLink = document.createElement('div');\n",
              "          docLink.innerHTML = docLinkHtml;\n",
              "          element.appendChild(docLink);\n",
              "        }\n",
              "      </script>\n",
              "    </div>\n",
              "  </div>\n",
              "  "
            ]
          },
          "metadata": {},
          "execution_count": 47
        }
      ]
    },
    {
      "cell_type": "code",
      "source": [
        "data.shape"
      ],
      "metadata": {
        "id": "aGYxCBjGetut",
        "colab": {
          "base_uri": "https://localhost:8080/"
        },
        "outputId": "01d9f4d2-be2d-4c4d-984c-4b77c716c6d5"
      },
      "execution_count": null,
      "outputs": [
        {
          "output_type": "execute_result",
          "data": {
            "text/plain": [
              "(39717, 111)"
            ]
          },
          "metadata": {},
          "execution_count": 48
        }
      ]
    },
    {
      "cell_type": "code",
      "source": [
        "(data.isnull().mean()*100).round(2)"
      ],
      "metadata": {
        "id": "DdTD9LtceyK1",
        "colab": {
          "base_uri": "https://localhost:8080/"
        },
        "outputId": "4c19180c-6a21-42b9-ac18-e9d5967c3157"
      },
      "execution_count": null,
      "outputs": [
        {
          "output_type": "execute_result",
          "data": {
            "text/plain": [
              "id                              0.0\n",
              "member_id                       0.0\n",
              "loan_amnt                       0.0\n",
              "funded_amnt                     0.0\n",
              "funded_amnt_inv                 0.0\n",
              "                              ...  \n",
              "tax_liens                       0.1\n",
              "tot_hi_cred_lim               100.0\n",
              "total_bal_ex_mort             100.0\n",
              "total_bc_limit                100.0\n",
              "total_il_high_credit_limit    100.0\n",
              "Length: 111, dtype: float64"
            ]
          },
          "metadata": {},
          "execution_count": 49
        }
      ]
    },
    {
      "cell_type": "code",
      "source": [
        "### drop columns which are have 100% missing values\n",
        "temp= data.dropna(axis=1,how='all')"
      ],
      "metadata": {
        "id": "TWuezYzTgmUP"
      },
      "execution_count": null,
      "outputs": []
    },
    {
      "cell_type": "code",
      "source": [
        "temp.head()"
      ],
      "metadata": {
        "id": "8bRdM4MbheBH",
        "colab": {
          "base_uri": "https://localhost:8080/",
          "height": 386
        },
        "outputId": "03e09c42-32fe-4cc7-f4b6-5c685ef38e18"
      },
      "execution_count": null,
      "outputs": [
        {
          "output_type": "execute_result",
          "data": {
            "text/plain": [
              "        id  member_id  loan_amnt  funded_amnt  funded_amnt_inv        term  \\\n",
              "0  1077501    1296599       5000         5000           4975.0   36 months   \n",
              "1  1077430    1314167       2500         2500           2500.0   60 months   \n",
              "2  1077175    1313524       2400         2400           2400.0   36 months   \n",
              "3  1076863    1277178      10000        10000          10000.0   36 months   \n",
              "4  1075358    1311748       3000         3000           3000.0   60 months   \n",
              "\n",
              "  int_rate  installment grade sub_grade  ... next_pymnt_d last_credit_pull_d  \\\n",
              "0   10.65%       162.87     B        B2  ...          NaN             May-16   \n",
              "1   15.27%        59.83     C        C4  ...          NaN             Sep-13   \n",
              "2   15.96%        84.33     C        C5  ...          NaN             May-16   \n",
              "3   13.49%       339.31     C        C1  ...          NaN             Apr-16   \n",
              "4   12.69%        67.79     B        B5  ...       Jun-16             May-16   \n",
              "\n",
              "  collections_12_mths_ex_med  policy_code application_type acc_now_delinq  \\\n",
              "0                        0.0            1       INDIVIDUAL              0   \n",
              "1                        0.0            1       INDIVIDUAL              0   \n",
              "2                        0.0            1       INDIVIDUAL              0   \n",
              "3                        0.0            1       INDIVIDUAL              0   \n",
              "4                        0.0            1       INDIVIDUAL              0   \n",
              "\n",
              "  chargeoff_within_12_mths delinq_amnt pub_rec_bankruptcies tax_liens  \n",
              "0                      0.0           0                  0.0       0.0  \n",
              "1                      0.0           0                  0.0       0.0  \n",
              "2                      0.0           0                  0.0       0.0  \n",
              "3                      0.0           0                  0.0       0.0  \n",
              "4                      0.0           0                  0.0       0.0  \n",
              "\n",
              "[5 rows x 57 columns]"
            ],
            "text/html": [
              "\n",
              "  <div id=\"df-e46f0c30-9fba-45d9-8224-001968d21f2d\">\n",
              "    <div class=\"colab-df-container\">\n",
              "      <div>\n",
              "<style scoped>\n",
              "    .dataframe tbody tr th:only-of-type {\n",
              "        vertical-align: middle;\n",
              "    }\n",
              "\n",
              "    .dataframe tbody tr th {\n",
              "        vertical-align: top;\n",
              "    }\n",
              "\n",
              "    .dataframe thead th {\n",
              "        text-align: right;\n",
              "    }\n",
              "</style>\n",
              "<table border=\"1\" class=\"dataframe\">\n",
              "  <thead>\n",
              "    <tr style=\"text-align: right;\">\n",
              "      <th></th>\n",
              "      <th>id</th>\n",
              "      <th>member_id</th>\n",
              "      <th>loan_amnt</th>\n",
              "      <th>funded_amnt</th>\n",
              "      <th>funded_amnt_inv</th>\n",
              "      <th>term</th>\n",
              "      <th>int_rate</th>\n",
              "      <th>installment</th>\n",
              "      <th>grade</th>\n",
              "      <th>sub_grade</th>\n",
              "      <th>...</th>\n",
              "      <th>next_pymnt_d</th>\n",
              "      <th>last_credit_pull_d</th>\n",
              "      <th>collections_12_mths_ex_med</th>\n",
              "      <th>policy_code</th>\n",
              "      <th>application_type</th>\n",
              "      <th>acc_now_delinq</th>\n",
              "      <th>chargeoff_within_12_mths</th>\n",
              "      <th>delinq_amnt</th>\n",
              "      <th>pub_rec_bankruptcies</th>\n",
              "      <th>tax_liens</th>\n",
              "    </tr>\n",
              "  </thead>\n",
              "  <tbody>\n",
              "    <tr>\n",
              "      <th>0</th>\n",
              "      <td>1077501</td>\n",
              "      <td>1296599</td>\n",
              "      <td>5000</td>\n",
              "      <td>5000</td>\n",
              "      <td>4975.0</td>\n",
              "      <td>36 months</td>\n",
              "      <td>10.65%</td>\n",
              "      <td>162.87</td>\n",
              "      <td>B</td>\n",
              "      <td>B2</td>\n",
              "      <td>...</td>\n",
              "      <td>NaN</td>\n",
              "      <td>May-16</td>\n",
              "      <td>0.0</td>\n",
              "      <td>1</td>\n",
              "      <td>INDIVIDUAL</td>\n",
              "      <td>0</td>\n",
              "      <td>0.0</td>\n",
              "      <td>0</td>\n",
              "      <td>0.0</td>\n",
              "      <td>0.0</td>\n",
              "    </tr>\n",
              "    <tr>\n",
              "      <th>1</th>\n",
              "      <td>1077430</td>\n",
              "      <td>1314167</td>\n",
              "      <td>2500</td>\n",
              "      <td>2500</td>\n",
              "      <td>2500.0</td>\n",
              "      <td>60 months</td>\n",
              "      <td>15.27%</td>\n",
              "      <td>59.83</td>\n",
              "      <td>C</td>\n",
              "      <td>C4</td>\n",
              "      <td>...</td>\n",
              "      <td>NaN</td>\n",
              "      <td>Sep-13</td>\n",
              "      <td>0.0</td>\n",
              "      <td>1</td>\n",
              "      <td>INDIVIDUAL</td>\n",
              "      <td>0</td>\n",
              "      <td>0.0</td>\n",
              "      <td>0</td>\n",
              "      <td>0.0</td>\n",
              "      <td>0.0</td>\n",
              "    </tr>\n",
              "    <tr>\n",
              "      <th>2</th>\n",
              "      <td>1077175</td>\n",
              "      <td>1313524</td>\n",
              "      <td>2400</td>\n",
              "      <td>2400</td>\n",
              "      <td>2400.0</td>\n",
              "      <td>36 months</td>\n",
              "      <td>15.96%</td>\n",
              "      <td>84.33</td>\n",
              "      <td>C</td>\n",
              "      <td>C5</td>\n",
              "      <td>...</td>\n",
              "      <td>NaN</td>\n",
              "      <td>May-16</td>\n",
              "      <td>0.0</td>\n",
              "      <td>1</td>\n",
              "      <td>INDIVIDUAL</td>\n",
              "      <td>0</td>\n",
              "      <td>0.0</td>\n",
              "      <td>0</td>\n",
              "      <td>0.0</td>\n",
              "      <td>0.0</td>\n",
              "    </tr>\n",
              "    <tr>\n",
              "      <th>3</th>\n",
              "      <td>1076863</td>\n",
              "      <td>1277178</td>\n",
              "      <td>10000</td>\n",
              "      <td>10000</td>\n",
              "      <td>10000.0</td>\n",
              "      <td>36 months</td>\n",
              "      <td>13.49%</td>\n",
              "      <td>339.31</td>\n",
              "      <td>C</td>\n",
              "      <td>C1</td>\n",
              "      <td>...</td>\n",
              "      <td>NaN</td>\n",
              "      <td>Apr-16</td>\n",
              "      <td>0.0</td>\n",
              "      <td>1</td>\n",
              "      <td>INDIVIDUAL</td>\n",
              "      <td>0</td>\n",
              "      <td>0.0</td>\n",
              "      <td>0</td>\n",
              "      <td>0.0</td>\n",
              "      <td>0.0</td>\n",
              "    </tr>\n",
              "    <tr>\n",
              "      <th>4</th>\n",
              "      <td>1075358</td>\n",
              "      <td>1311748</td>\n",
              "      <td>3000</td>\n",
              "      <td>3000</td>\n",
              "      <td>3000.0</td>\n",
              "      <td>60 months</td>\n",
              "      <td>12.69%</td>\n",
              "      <td>67.79</td>\n",
              "      <td>B</td>\n",
              "      <td>B5</td>\n",
              "      <td>...</td>\n",
              "      <td>Jun-16</td>\n",
              "      <td>May-16</td>\n",
              "      <td>0.0</td>\n",
              "      <td>1</td>\n",
              "      <td>INDIVIDUAL</td>\n",
              "      <td>0</td>\n",
              "      <td>0.0</td>\n",
              "      <td>0</td>\n",
              "      <td>0.0</td>\n",
              "      <td>0.0</td>\n",
              "    </tr>\n",
              "  </tbody>\n",
              "</table>\n",
              "<p>5 rows × 57 columns</p>\n",
              "</div>\n",
              "      <button class=\"colab-df-convert\" onclick=\"convertToInteractive('df-e46f0c30-9fba-45d9-8224-001968d21f2d')\"\n",
              "              title=\"Convert this dataframe to an interactive table.\"\n",
              "              style=\"display:none;\">\n",
              "        \n",
              "  <svg xmlns=\"http://www.w3.org/2000/svg\" height=\"24px\"viewBox=\"0 0 24 24\"\n",
              "       width=\"24px\">\n",
              "    <path d=\"M0 0h24v24H0V0z\" fill=\"none\"/>\n",
              "    <path d=\"M18.56 5.44l.94 2.06.94-2.06 2.06-.94-2.06-.94-.94-2.06-.94 2.06-2.06.94zm-11 1L8.5 8.5l.94-2.06 2.06-.94-2.06-.94L8.5 2.5l-.94 2.06-2.06.94zm10 10l.94 2.06.94-2.06 2.06-.94-2.06-.94-.94-2.06-.94 2.06-2.06.94z\"/><path d=\"M17.41 7.96l-1.37-1.37c-.4-.4-.92-.59-1.43-.59-.52 0-1.04.2-1.43.59L10.3 9.45l-7.72 7.72c-.78.78-.78 2.05 0 2.83L4 21.41c.39.39.9.59 1.41.59.51 0 1.02-.2 1.41-.59l7.78-7.78 2.81-2.81c.8-.78.8-2.07 0-2.86zM5.41 20L4 18.59l7.72-7.72 1.47 1.35L5.41 20z\"/>\n",
              "  </svg>\n",
              "      </button>\n",
              "      \n",
              "  <style>\n",
              "    .colab-df-container {\n",
              "      display:flex;\n",
              "      flex-wrap:wrap;\n",
              "      gap: 12px;\n",
              "    }\n",
              "\n",
              "    .colab-df-convert {\n",
              "      background-color: #E8F0FE;\n",
              "      border: none;\n",
              "      border-radius: 50%;\n",
              "      cursor: pointer;\n",
              "      display: none;\n",
              "      fill: #1967D2;\n",
              "      height: 32px;\n",
              "      padding: 0 0 0 0;\n",
              "      width: 32px;\n",
              "    }\n",
              "\n",
              "    .colab-df-convert:hover {\n",
              "      background-color: #E2EBFA;\n",
              "      box-shadow: 0px 1px 2px rgba(60, 64, 67, 0.3), 0px 1px 3px 1px rgba(60, 64, 67, 0.15);\n",
              "      fill: #174EA6;\n",
              "    }\n",
              "\n",
              "    [theme=dark] .colab-df-convert {\n",
              "      background-color: #3B4455;\n",
              "      fill: #D2E3FC;\n",
              "    }\n",
              "\n",
              "    [theme=dark] .colab-df-convert:hover {\n",
              "      background-color: #434B5C;\n",
              "      box-shadow: 0px 1px 3px 1px rgba(0, 0, 0, 0.15);\n",
              "      filter: drop-shadow(0px 1px 2px rgba(0, 0, 0, 0.3));\n",
              "      fill: #FFFFFF;\n",
              "    }\n",
              "  </style>\n",
              "\n",
              "      <script>\n",
              "        const buttonEl =\n",
              "          document.querySelector('#df-e46f0c30-9fba-45d9-8224-001968d21f2d button.colab-df-convert');\n",
              "        buttonEl.style.display =\n",
              "          google.colab.kernel.accessAllowed ? 'block' : 'none';\n",
              "\n",
              "        async function convertToInteractive(key) {\n",
              "          const element = document.querySelector('#df-e46f0c30-9fba-45d9-8224-001968d21f2d');\n",
              "          const dataTable =\n",
              "            await google.colab.kernel.invokeFunction('convertToInteractive',\n",
              "                                                     [key], {});\n",
              "          if (!dataTable) return;\n",
              "\n",
              "          const docLinkHtml = 'Like what you see? Visit the ' +\n",
              "            '<a target=\"_blank\" href=https://colab.research.google.com/notebooks/data_table.ipynb>data table notebook</a>'\n",
              "            + ' to learn more about interactive tables.';\n",
              "          element.innerHTML = '';\n",
              "          dataTable['output_type'] = 'display_data';\n",
              "          await google.colab.output.renderOutput(dataTable, element);\n",
              "          const docLink = document.createElement('div');\n",
              "          docLink.innerHTML = docLinkHtml;\n",
              "          element.appendChild(docLink);\n",
              "        }\n",
              "      </script>\n",
              "    </div>\n",
              "  </div>\n",
              "  "
            ]
          },
          "metadata": {},
          "execution_count": 51
        }
      ]
    },
    {
      "cell_type": "code",
      "source": [
        "(temp.isnull().mean()*100).round(2)"
      ],
      "metadata": {
        "id": "T0whA5N_h92r",
        "colab": {
          "base_uri": "https://localhost:8080/"
        },
        "outputId": "ec274475-7dcf-4dab-ad38-0750328bf7c1"
      },
      "execution_count": null,
      "outputs": [
        {
          "output_type": "execute_result",
          "data": {
            "text/plain": [
              "id                             0.00\n",
              "member_id                      0.00\n",
              "loan_amnt                      0.00\n",
              "funded_amnt                    0.00\n",
              "funded_amnt_inv                0.00\n",
              "term                           0.00\n",
              "int_rate                       0.00\n",
              "installment                    0.00\n",
              "grade                          0.00\n",
              "sub_grade                      0.00\n",
              "emp_title                      6.19\n",
              "emp_length                     2.71\n",
              "home_ownership                 0.00\n",
              "annual_inc                     0.00\n",
              "verification_status            0.00\n",
              "issue_d                        0.00\n",
              "loan_status                    0.00\n",
              "pymnt_plan                     0.00\n",
              "url                            0.00\n",
              "desc                          32.58\n",
              "purpose                        0.00\n",
              "title                          0.03\n",
              "zip_code                       0.00\n",
              "addr_state                     0.00\n",
              "dti                            0.00\n",
              "delinq_2yrs                    0.00\n",
              "earliest_cr_line               0.00\n",
              "inq_last_6mths                 0.00\n",
              "mths_since_last_delinq        64.66\n",
              "mths_since_last_record        92.99\n",
              "open_acc                       0.00\n",
              "pub_rec                        0.00\n",
              "revol_bal                      0.00\n",
              "revol_util                     0.13\n",
              "total_acc                      0.00\n",
              "initial_list_status            0.00\n",
              "out_prncp                      0.00\n",
              "out_prncp_inv                  0.00\n",
              "total_pymnt                    0.00\n",
              "total_pymnt_inv                0.00\n",
              "total_rec_prncp                0.00\n",
              "total_rec_int                  0.00\n",
              "total_rec_late_fee             0.00\n",
              "recoveries                     0.00\n",
              "collection_recovery_fee        0.00\n",
              "last_pymnt_d                   0.18\n",
              "last_pymnt_amnt                0.00\n",
              "next_pymnt_d                  97.13\n",
              "last_credit_pull_d             0.01\n",
              "collections_12_mths_ex_med     0.14\n",
              "policy_code                    0.00\n",
              "application_type               0.00\n",
              "acc_now_delinq                 0.00\n",
              "chargeoff_within_12_mths       0.14\n",
              "delinq_amnt                    0.00\n",
              "pub_rec_bankruptcies           1.75\n",
              "tax_liens                      0.10\n",
              "dtype: float64"
            ]
          },
          "metadata": {},
          "execution_count": 52
        }
      ]
    },
    {
      "cell_type": "code",
      "source": [
        "find_miss_col= temp.columns[(temp.isnull().mean()*100).round(2)>90]\n",
        "temp.drop(find_miss_col,axis=1,inplace=True)\n",
        "\n"
      ],
      "metadata": {
        "id": "ep_4n-R8iGst",
        "colab": {
          "base_uri": "https://localhost:8080/"
        },
        "outputId": "93c11c2d-b4a7-4d2f-bbaa-ed72cb1851f5"
      },
      "execution_count": null,
      "outputs": [
        {
          "output_type": "stream",
          "name": "stderr",
          "text": [
            "/usr/local/lib/python3.7/dist-packages/pandas/core/frame.py:4913: SettingWithCopyWarning: \n",
            "A value is trying to be set on a copy of a slice from a DataFrame\n",
            "\n",
            "See the caveats in the documentation: https://pandas.pydata.org/pandas-docs/stable/user_guide/indexing.html#returning-a-view-versus-a-copy\n",
            "  errors=errors,\n"
          ]
        }
      ]
    },
    {
      "cell_type": "code",
      "source": [
        "(temp.isnull().mean()*100).round(2)"
      ],
      "metadata": {
        "id": "IJqrBUEGneQ4",
        "colab": {
          "base_uri": "https://localhost:8080/"
        },
        "outputId": "9927c8bb-e5a7-4646-e52f-5d8af24d2f16"
      },
      "execution_count": null,
      "outputs": [
        {
          "output_type": "execute_result",
          "data": {
            "text/plain": [
              "id                             0.00\n",
              "member_id                      0.00\n",
              "loan_amnt                      0.00\n",
              "funded_amnt                    0.00\n",
              "funded_amnt_inv                0.00\n",
              "term                           0.00\n",
              "int_rate                       0.00\n",
              "installment                    0.00\n",
              "grade                          0.00\n",
              "sub_grade                      0.00\n",
              "emp_title                      6.19\n",
              "emp_length                     2.71\n",
              "home_ownership                 0.00\n",
              "annual_inc                     0.00\n",
              "verification_status            0.00\n",
              "issue_d                        0.00\n",
              "loan_status                    0.00\n",
              "pymnt_plan                     0.00\n",
              "url                            0.00\n",
              "desc                          32.58\n",
              "purpose                        0.00\n",
              "title                          0.03\n",
              "zip_code                       0.00\n",
              "addr_state                     0.00\n",
              "dti                            0.00\n",
              "delinq_2yrs                    0.00\n",
              "earliest_cr_line               0.00\n",
              "inq_last_6mths                 0.00\n",
              "mths_since_last_delinq        64.66\n",
              "open_acc                       0.00\n",
              "pub_rec                        0.00\n",
              "revol_bal                      0.00\n",
              "revol_util                     0.13\n",
              "total_acc                      0.00\n",
              "initial_list_status            0.00\n",
              "out_prncp                      0.00\n",
              "out_prncp_inv                  0.00\n",
              "total_pymnt                    0.00\n",
              "total_pymnt_inv                0.00\n",
              "total_rec_prncp                0.00\n",
              "total_rec_int                  0.00\n",
              "total_rec_late_fee             0.00\n",
              "recoveries                     0.00\n",
              "collection_recovery_fee        0.00\n",
              "last_pymnt_d                   0.18\n",
              "last_pymnt_amnt                0.00\n",
              "last_credit_pull_d             0.01\n",
              "collections_12_mths_ex_med     0.14\n",
              "policy_code                    0.00\n",
              "application_type               0.00\n",
              "acc_now_delinq                 0.00\n",
              "chargeoff_within_12_mths       0.14\n",
              "delinq_amnt                    0.00\n",
              "pub_rec_bankruptcies           1.75\n",
              "tax_liens                      0.10\n",
              "dtype: float64"
            ]
          },
          "metadata": {},
          "execution_count": 54
        }
      ]
    },
    {
      "cell_type": "code",
      "source": [
        "temp.shape"
      ],
      "metadata": {
        "id": "KwCYMfT9oeka",
        "colab": {
          "base_uri": "https://localhost:8080/"
        },
        "outputId": "0fbe2f01-feb5-4a11-92cf-58704b3c2aa3"
      },
      "execution_count": null,
      "outputs": [
        {
          "output_type": "execute_result",
          "data": {
            "text/plain": [
              "(39717, 55)"
            ]
          },
          "metadata": {},
          "execution_count": 55
        }
      ]
    },
    {
      "cell_type": "code",
      "source": [
        "temp.drop('desc',axis=1,inplace=True)\n"
      ],
      "metadata": {
        "id": "1bk_Ay5uqIzQ"
      },
      "execution_count": null,
      "outputs": []
    },
    {
      "cell_type": "code",
      "source": [
        "temp.shape"
      ],
      "metadata": {
        "id": "DuO_9MjwqUaD",
        "colab": {
          "base_uri": "https://localhost:8080/"
        },
        "outputId": "efb1a110-b99d-4aea-db23-72631b0c76ad"
      },
      "execution_count": null,
      "outputs": [
        {
          "output_type": "execute_result",
          "data": {
            "text/plain": [
              "(39717, 54)"
            ]
          },
          "metadata": {},
          "execution_count": 57
        }
      ]
    },
    {
      "cell_type": "code",
      "source": [
        "final_data=temp\n",
        "final_data.head()"
      ],
      "metadata": {
        "id": "DRIi9vk3vRr1",
        "colab": {
          "base_uri": "https://localhost:8080/",
          "height": 386
        },
        "outputId": "1d9a8edb-6c6c-49a2-f77c-098635b29586"
      },
      "execution_count": null,
      "outputs": [
        {
          "output_type": "execute_result",
          "data": {
            "text/plain": [
              "        id  member_id  loan_amnt  funded_amnt  funded_amnt_inv        term  \\\n",
              "0  1077501    1296599       5000         5000           4975.0   36 months   \n",
              "1  1077430    1314167       2500         2500           2500.0   60 months   \n",
              "2  1077175    1313524       2400         2400           2400.0   36 months   \n",
              "3  1076863    1277178      10000        10000          10000.0   36 months   \n",
              "4  1075358    1311748       3000         3000           3000.0   60 months   \n",
              "\n",
              "  int_rate  installment grade sub_grade  ... last_pymnt_amnt  \\\n",
              "0   10.65%       162.87     B        B2  ...          171.62   \n",
              "1   15.27%        59.83     C        C4  ...          119.66   \n",
              "2   15.96%        84.33     C        C5  ...          649.91   \n",
              "3   13.49%       339.31     C        C1  ...          357.48   \n",
              "4   12.69%        67.79     B        B5  ...           67.79   \n",
              "\n",
              "  last_credit_pull_d collections_12_mths_ex_med  policy_code application_type  \\\n",
              "0             May-16                        0.0            1       INDIVIDUAL   \n",
              "1             Sep-13                        0.0            1       INDIVIDUAL   \n",
              "2             May-16                        0.0            1       INDIVIDUAL   \n",
              "3             Apr-16                        0.0            1       INDIVIDUAL   \n",
              "4             May-16                        0.0            1       INDIVIDUAL   \n",
              "\n",
              "  acc_now_delinq chargeoff_within_12_mths delinq_amnt pub_rec_bankruptcies  \\\n",
              "0              0                      0.0           0                  0.0   \n",
              "1              0                      0.0           0                  0.0   \n",
              "2              0                      0.0           0                  0.0   \n",
              "3              0                      0.0           0                  0.0   \n",
              "4              0                      0.0           0                  0.0   \n",
              "\n",
              "  tax_liens  \n",
              "0       0.0  \n",
              "1       0.0  \n",
              "2       0.0  \n",
              "3       0.0  \n",
              "4       0.0  \n",
              "\n",
              "[5 rows x 54 columns]"
            ],
            "text/html": [
              "\n",
              "  <div id=\"df-93916b36-dc26-411f-b2f9-4b1c32705f30\">\n",
              "    <div class=\"colab-df-container\">\n",
              "      <div>\n",
              "<style scoped>\n",
              "    .dataframe tbody tr th:only-of-type {\n",
              "        vertical-align: middle;\n",
              "    }\n",
              "\n",
              "    .dataframe tbody tr th {\n",
              "        vertical-align: top;\n",
              "    }\n",
              "\n",
              "    .dataframe thead th {\n",
              "        text-align: right;\n",
              "    }\n",
              "</style>\n",
              "<table border=\"1\" class=\"dataframe\">\n",
              "  <thead>\n",
              "    <tr style=\"text-align: right;\">\n",
              "      <th></th>\n",
              "      <th>id</th>\n",
              "      <th>member_id</th>\n",
              "      <th>loan_amnt</th>\n",
              "      <th>funded_amnt</th>\n",
              "      <th>funded_amnt_inv</th>\n",
              "      <th>term</th>\n",
              "      <th>int_rate</th>\n",
              "      <th>installment</th>\n",
              "      <th>grade</th>\n",
              "      <th>sub_grade</th>\n",
              "      <th>...</th>\n",
              "      <th>last_pymnt_amnt</th>\n",
              "      <th>last_credit_pull_d</th>\n",
              "      <th>collections_12_mths_ex_med</th>\n",
              "      <th>policy_code</th>\n",
              "      <th>application_type</th>\n",
              "      <th>acc_now_delinq</th>\n",
              "      <th>chargeoff_within_12_mths</th>\n",
              "      <th>delinq_amnt</th>\n",
              "      <th>pub_rec_bankruptcies</th>\n",
              "      <th>tax_liens</th>\n",
              "    </tr>\n",
              "  </thead>\n",
              "  <tbody>\n",
              "    <tr>\n",
              "      <th>0</th>\n",
              "      <td>1077501</td>\n",
              "      <td>1296599</td>\n",
              "      <td>5000</td>\n",
              "      <td>5000</td>\n",
              "      <td>4975.0</td>\n",
              "      <td>36 months</td>\n",
              "      <td>10.65%</td>\n",
              "      <td>162.87</td>\n",
              "      <td>B</td>\n",
              "      <td>B2</td>\n",
              "      <td>...</td>\n",
              "      <td>171.62</td>\n",
              "      <td>May-16</td>\n",
              "      <td>0.0</td>\n",
              "      <td>1</td>\n",
              "      <td>INDIVIDUAL</td>\n",
              "      <td>0</td>\n",
              "      <td>0.0</td>\n",
              "      <td>0</td>\n",
              "      <td>0.0</td>\n",
              "      <td>0.0</td>\n",
              "    </tr>\n",
              "    <tr>\n",
              "      <th>1</th>\n",
              "      <td>1077430</td>\n",
              "      <td>1314167</td>\n",
              "      <td>2500</td>\n",
              "      <td>2500</td>\n",
              "      <td>2500.0</td>\n",
              "      <td>60 months</td>\n",
              "      <td>15.27%</td>\n",
              "      <td>59.83</td>\n",
              "      <td>C</td>\n",
              "      <td>C4</td>\n",
              "      <td>...</td>\n",
              "      <td>119.66</td>\n",
              "      <td>Sep-13</td>\n",
              "      <td>0.0</td>\n",
              "      <td>1</td>\n",
              "      <td>INDIVIDUAL</td>\n",
              "      <td>0</td>\n",
              "      <td>0.0</td>\n",
              "      <td>0</td>\n",
              "      <td>0.0</td>\n",
              "      <td>0.0</td>\n",
              "    </tr>\n",
              "    <tr>\n",
              "      <th>2</th>\n",
              "      <td>1077175</td>\n",
              "      <td>1313524</td>\n",
              "      <td>2400</td>\n",
              "      <td>2400</td>\n",
              "      <td>2400.0</td>\n",
              "      <td>36 months</td>\n",
              "      <td>15.96%</td>\n",
              "      <td>84.33</td>\n",
              "      <td>C</td>\n",
              "      <td>C5</td>\n",
              "      <td>...</td>\n",
              "      <td>649.91</td>\n",
              "      <td>May-16</td>\n",
              "      <td>0.0</td>\n",
              "      <td>1</td>\n",
              "      <td>INDIVIDUAL</td>\n",
              "      <td>0</td>\n",
              "      <td>0.0</td>\n",
              "      <td>0</td>\n",
              "      <td>0.0</td>\n",
              "      <td>0.0</td>\n",
              "    </tr>\n",
              "    <tr>\n",
              "      <th>3</th>\n",
              "      <td>1076863</td>\n",
              "      <td>1277178</td>\n",
              "      <td>10000</td>\n",
              "      <td>10000</td>\n",
              "      <td>10000.0</td>\n",
              "      <td>36 months</td>\n",
              "      <td>13.49%</td>\n",
              "      <td>339.31</td>\n",
              "      <td>C</td>\n",
              "      <td>C1</td>\n",
              "      <td>...</td>\n",
              "      <td>357.48</td>\n",
              "      <td>Apr-16</td>\n",
              "      <td>0.0</td>\n",
              "      <td>1</td>\n",
              "      <td>INDIVIDUAL</td>\n",
              "      <td>0</td>\n",
              "      <td>0.0</td>\n",
              "      <td>0</td>\n",
              "      <td>0.0</td>\n",
              "      <td>0.0</td>\n",
              "    </tr>\n",
              "    <tr>\n",
              "      <th>4</th>\n",
              "      <td>1075358</td>\n",
              "      <td>1311748</td>\n",
              "      <td>3000</td>\n",
              "      <td>3000</td>\n",
              "      <td>3000.0</td>\n",
              "      <td>60 months</td>\n",
              "      <td>12.69%</td>\n",
              "      <td>67.79</td>\n",
              "      <td>B</td>\n",
              "      <td>B5</td>\n",
              "      <td>...</td>\n",
              "      <td>67.79</td>\n",
              "      <td>May-16</td>\n",
              "      <td>0.0</td>\n",
              "      <td>1</td>\n",
              "      <td>INDIVIDUAL</td>\n",
              "      <td>0</td>\n",
              "      <td>0.0</td>\n",
              "      <td>0</td>\n",
              "      <td>0.0</td>\n",
              "      <td>0.0</td>\n",
              "    </tr>\n",
              "  </tbody>\n",
              "</table>\n",
              "<p>5 rows × 54 columns</p>\n",
              "</div>\n",
              "      <button class=\"colab-df-convert\" onclick=\"convertToInteractive('df-93916b36-dc26-411f-b2f9-4b1c32705f30')\"\n",
              "              title=\"Convert this dataframe to an interactive table.\"\n",
              "              style=\"display:none;\">\n",
              "        \n",
              "  <svg xmlns=\"http://www.w3.org/2000/svg\" height=\"24px\"viewBox=\"0 0 24 24\"\n",
              "       width=\"24px\">\n",
              "    <path d=\"M0 0h24v24H0V0z\" fill=\"none\"/>\n",
              "    <path d=\"M18.56 5.44l.94 2.06.94-2.06 2.06-.94-2.06-.94-.94-2.06-.94 2.06-2.06.94zm-11 1L8.5 8.5l.94-2.06 2.06-.94-2.06-.94L8.5 2.5l-.94 2.06-2.06.94zm10 10l.94 2.06.94-2.06 2.06-.94-2.06-.94-.94-2.06-.94 2.06-2.06.94z\"/><path d=\"M17.41 7.96l-1.37-1.37c-.4-.4-.92-.59-1.43-.59-.52 0-1.04.2-1.43.59L10.3 9.45l-7.72 7.72c-.78.78-.78 2.05 0 2.83L4 21.41c.39.39.9.59 1.41.59.51 0 1.02-.2 1.41-.59l7.78-7.78 2.81-2.81c.8-.78.8-2.07 0-2.86zM5.41 20L4 18.59l7.72-7.72 1.47 1.35L5.41 20z\"/>\n",
              "  </svg>\n",
              "      </button>\n",
              "      \n",
              "  <style>\n",
              "    .colab-df-container {\n",
              "      display:flex;\n",
              "      flex-wrap:wrap;\n",
              "      gap: 12px;\n",
              "    }\n",
              "\n",
              "    .colab-df-convert {\n",
              "      background-color: #E8F0FE;\n",
              "      border: none;\n",
              "      border-radius: 50%;\n",
              "      cursor: pointer;\n",
              "      display: none;\n",
              "      fill: #1967D2;\n",
              "      height: 32px;\n",
              "      padding: 0 0 0 0;\n",
              "      width: 32px;\n",
              "    }\n",
              "\n",
              "    .colab-df-convert:hover {\n",
              "      background-color: #E2EBFA;\n",
              "      box-shadow: 0px 1px 2px rgba(60, 64, 67, 0.3), 0px 1px 3px 1px rgba(60, 64, 67, 0.15);\n",
              "      fill: #174EA6;\n",
              "    }\n",
              "\n",
              "    [theme=dark] .colab-df-convert {\n",
              "      background-color: #3B4455;\n",
              "      fill: #D2E3FC;\n",
              "    }\n",
              "\n",
              "    [theme=dark] .colab-df-convert:hover {\n",
              "      background-color: #434B5C;\n",
              "      box-shadow: 0px 1px 3px 1px rgba(0, 0, 0, 0.15);\n",
              "      filter: drop-shadow(0px 1px 2px rgba(0, 0, 0, 0.3));\n",
              "      fill: #FFFFFF;\n",
              "    }\n",
              "  </style>\n",
              "\n",
              "      <script>\n",
              "        const buttonEl =\n",
              "          document.querySelector('#df-93916b36-dc26-411f-b2f9-4b1c32705f30 button.colab-df-convert');\n",
              "        buttonEl.style.display =\n",
              "          google.colab.kernel.accessAllowed ? 'block' : 'none';\n",
              "\n",
              "        async function convertToInteractive(key) {\n",
              "          const element = document.querySelector('#df-93916b36-dc26-411f-b2f9-4b1c32705f30');\n",
              "          const dataTable =\n",
              "            await google.colab.kernel.invokeFunction('convertToInteractive',\n",
              "                                                     [key], {});\n",
              "          if (!dataTable) return;\n",
              "\n",
              "          const docLinkHtml = 'Like what you see? Visit the ' +\n",
              "            '<a target=\"_blank\" href=https://colab.research.google.com/notebooks/data_table.ipynb>data table notebook</a>'\n",
              "            + ' to learn more about interactive tables.';\n",
              "          element.innerHTML = '';\n",
              "          dataTable['output_type'] = 'display_data';\n",
              "          await google.colab.output.renderOutput(dataTable, element);\n",
              "          const docLink = document.createElement('div');\n",
              "          docLink.innerHTML = docLinkHtml;\n",
              "          element.appendChild(docLink);\n",
              "        }\n",
              "      </script>\n",
              "    </div>\n",
              "  </div>\n",
              "  "
            ]
          },
          "metadata": {},
          "execution_count": 58
        }
      ]
    },
    {
      "cell_type": "code",
      "source": [
        "### Format the values wherever required\n",
        "final_data.info()"
      ],
      "metadata": {
        "id": "1AhCUwtWvewF",
        "colab": {
          "base_uri": "https://localhost:8080/"
        },
        "outputId": "7c2a7cf8-bd9c-4d83-eb7e-26d1763731ad"
      },
      "execution_count": null,
      "outputs": [
        {
          "output_type": "stream",
          "name": "stdout",
          "text": [
            "<class 'pandas.core.frame.DataFrame'>\n",
            "RangeIndex: 39717 entries, 0 to 39716\n",
            "Data columns (total 54 columns):\n",
            " #   Column                      Non-Null Count  Dtype  \n",
            "---  ------                      --------------  -----  \n",
            " 0   id                          39717 non-null  int64  \n",
            " 1   member_id                   39717 non-null  int64  \n",
            " 2   loan_amnt                   39717 non-null  int64  \n",
            " 3   funded_amnt                 39717 non-null  int64  \n",
            " 4   funded_amnt_inv             39717 non-null  float64\n",
            " 5   term                        39717 non-null  object \n",
            " 6   int_rate                    39717 non-null  object \n",
            " 7   installment                 39717 non-null  float64\n",
            " 8   grade                       39717 non-null  object \n",
            " 9   sub_grade                   39717 non-null  object \n",
            " 10  emp_title                   37258 non-null  object \n",
            " 11  emp_length                  38642 non-null  object \n",
            " 12  home_ownership              39717 non-null  object \n",
            " 13  annual_inc                  39717 non-null  float64\n",
            " 14  verification_status         39717 non-null  object \n",
            " 15  issue_d                     39717 non-null  object \n",
            " 16  loan_status                 39717 non-null  object \n",
            " 17  pymnt_plan                  39717 non-null  object \n",
            " 18  url                         39717 non-null  object \n",
            " 19  purpose                     39717 non-null  object \n",
            " 20  title                       39706 non-null  object \n",
            " 21  zip_code                    39717 non-null  object \n",
            " 22  addr_state                  39717 non-null  object \n",
            " 23  dti                         39717 non-null  float64\n",
            " 24  delinq_2yrs                 39717 non-null  int64  \n",
            " 25  earliest_cr_line            39717 non-null  object \n",
            " 26  inq_last_6mths              39717 non-null  int64  \n",
            " 27  mths_since_last_delinq      14035 non-null  float64\n",
            " 28  open_acc                    39717 non-null  int64  \n",
            " 29  pub_rec                     39717 non-null  int64  \n",
            " 30  revol_bal                   39717 non-null  int64  \n",
            " 31  revol_util                  39667 non-null  object \n",
            " 32  total_acc                   39717 non-null  int64  \n",
            " 33  initial_list_status         39717 non-null  object \n",
            " 34  out_prncp                   39717 non-null  float64\n",
            " 35  out_prncp_inv               39717 non-null  float64\n",
            " 36  total_pymnt                 39717 non-null  float64\n",
            " 37  total_pymnt_inv             39717 non-null  float64\n",
            " 38  total_rec_prncp             39717 non-null  float64\n",
            " 39  total_rec_int               39717 non-null  float64\n",
            " 40  total_rec_late_fee          39717 non-null  float64\n",
            " 41  recoveries                  39717 non-null  float64\n",
            " 42  collection_recovery_fee     39717 non-null  float64\n",
            " 43  last_pymnt_d                39646 non-null  object \n",
            " 44  last_pymnt_amnt             39717 non-null  float64\n",
            " 45  last_credit_pull_d          39715 non-null  object \n",
            " 46  collections_12_mths_ex_med  39661 non-null  float64\n",
            " 47  policy_code                 39717 non-null  int64  \n",
            " 48  application_type            39717 non-null  object \n",
            " 49  acc_now_delinq              39717 non-null  int64  \n",
            " 50  chargeoff_within_12_mths    39661 non-null  float64\n",
            " 51  delinq_amnt                 39717 non-null  int64  \n",
            " 52  pub_rec_bankruptcies        39020 non-null  float64\n",
            " 53  tax_liens                   39678 non-null  float64\n",
            "dtypes: float64(19), int64(13), object(22)\n",
            "memory usage: 16.4+ MB\n"
          ]
        }
      ]
    },
    {
      "cell_type": "code",
      "source": [
        "#Remove % in term column and convert into integers\n",
        "final_data[\"term\"]=final_data[\"term\"].apply(lambda x : x.replace(\" months\",\"\")).astype(int)"
      ],
      "metadata": {
        "id": "Ej5mOMKNw5PK",
        "colab": {
          "base_uri": "https://localhost:8080/"
        },
        "outputId": "77a33e29-51af-4584-ffd3-ae9ec90954ae"
      },
      "execution_count": null,
      "outputs": [
        {
          "output_type": "stream",
          "name": "stderr",
          "text": [
            "/usr/local/lib/python3.7/dist-packages/ipykernel_launcher.py:2: SettingWithCopyWarning: \n",
            "A value is trying to be set on a copy of a slice from a DataFrame.\n",
            "Try using .loc[row_indexer,col_indexer] = value instead\n",
            "\n",
            "See the caveats in the documentation: https://pandas.pydata.org/pandas-docs/stable/user_guide/indexing.html#returning-a-view-versus-a-copy\n",
            "  \n"
          ]
        }
      ]
    },
    {
      "cell_type": "code",
      "source": [
        "final_data[\"term\"]"
      ],
      "metadata": {
        "id": "TnxIvDMWyjMG",
        "colab": {
          "base_uri": "https://localhost:8080/"
        },
        "outputId": "e447c330-efdb-47ff-c9a5-3ef3744d4e46"
      },
      "execution_count": null,
      "outputs": [
        {
          "output_type": "execute_result",
          "data": {
            "text/plain": [
              "0        36\n",
              "1        60\n",
              "2        36\n",
              "3        36\n",
              "4        60\n",
              "         ..\n",
              "39712    36\n",
              "39713    36\n",
              "39714    36\n",
              "39715    36\n",
              "39716    36\n",
              "Name: term, Length: 39717, dtype: int64"
            ]
          },
          "metadata": {},
          "execution_count": 61
        }
      ]
    },
    {
      "cell_type": "code",
      "source": [
        "final_data.info()"
      ],
      "metadata": {
        "id": "HoVD3XmU7eOf",
        "colab": {
          "base_uri": "https://localhost:8080/"
        },
        "outputId": "a6510dfb-650b-4d40-8632-ec950c664f5f"
      },
      "execution_count": null,
      "outputs": [
        {
          "output_type": "stream",
          "name": "stdout",
          "text": [
            "<class 'pandas.core.frame.DataFrame'>\n",
            "RangeIndex: 39717 entries, 0 to 39716\n",
            "Data columns (total 54 columns):\n",
            " #   Column                      Non-Null Count  Dtype  \n",
            "---  ------                      --------------  -----  \n",
            " 0   id                          39717 non-null  int64  \n",
            " 1   member_id                   39717 non-null  int64  \n",
            " 2   loan_amnt                   39717 non-null  int64  \n",
            " 3   funded_amnt                 39717 non-null  int64  \n",
            " 4   funded_amnt_inv             39717 non-null  float64\n",
            " 5   term                        39717 non-null  int64  \n",
            " 6   int_rate                    39717 non-null  object \n",
            " 7   installment                 39717 non-null  float64\n",
            " 8   grade                       39717 non-null  object \n",
            " 9   sub_grade                   39717 non-null  object \n",
            " 10  emp_title                   37258 non-null  object \n",
            " 11  emp_length                  38642 non-null  object \n",
            " 12  home_ownership              39717 non-null  object \n",
            " 13  annual_inc                  39717 non-null  float64\n",
            " 14  verification_status         39717 non-null  object \n",
            " 15  issue_d                     39717 non-null  object \n",
            " 16  loan_status                 39717 non-null  object \n",
            " 17  pymnt_plan                  39717 non-null  object \n",
            " 18  url                         39717 non-null  object \n",
            " 19  purpose                     39717 non-null  object \n",
            " 20  title                       39706 non-null  object \n",
            " 21  zip_code                    39717 non-null  object \n",
            " 22  addr_state                  39717 non-null  object \n",
            " 23  dti                         39717 non-null  float64\n",
            " 24  delinq_2yrs                 39717 non-null  int64  \n",
            " 25  earliest_cr_line            39717 non-null  object \n",
            " 26  inq_last_6mths              39717 non-null  int64  \n",
            " 27  mths_since_last_delinq      14035 non-null  float64\n",
            " 28  open_acc                    39717 non-null  int64  \n",
            " 29  pub_rec                     39717 non-null  int64  \n",
            " 30  revol_bal                   39717 non-null  int64  \n",
            " 31  revol_util                  39667 non-null  object \n",
            " 32  total_acc                   39717 non-null  int64  \n",
            " 33  initial_list_status         39717 non-null  object \n",
            " 34  out_prncp                   39717 non-null  float64\n",
            " 35  out_prncp_inv               39717 non-null  float64\n",
            " 36  total_pymnt                 39717 non-null  float64\n",
            " 37  total_pymnt_inv             39717 non-null  float64\n",
            " 38  total_rec_prncp             39717 non-null  float64\n",
            " 39  total_rec_int               39717 non-null  float64\n",
            " 40  total_rec_late_fee          39717 non-null  float64\n",
            " 41  recoveries                  39717 non-null  float64\n",
            " 42  collection_recovery_fee     39717 non-null  float64\n",
            " 43  last_pymnt_d                39646 non-null  object \n",
            " 44  last_pymnt_amnt             39717 non-null  float64\n",
            " 45  last_credit_pull_d          39715 non-null  object \n",
            " 46  collections_12_mths_ex_med  39661 non-null  float64\n",
            " 47  policy_code                 39717 non-null  int64  \n",
            " 48  application_type            39717 non-null  object \n",
            " 49  acc_now_delinq              39717 non-null  int64  \n",
            " 50  chargeoff_within_12_mths    39661 non-null  float64\n",
            " 51  delinq_amnt                 39717 non-null  int64  \n",
            " 52  pub_rec_bankruptcies        39020 non-null  float64\n",
            " 53  tax_liens                   39678 non-null  float64\n",
            "dtypes: float64(19), int64(14), object(21)\n",
            "memory usage: 16.4+ MB\n"
          ]
        }
      ]
    },
    {
      "cell_type": "code",
      "source": [
        "final_data[\"int_rate\"]= final_data[\"int_rate\"].apply(lambda x: str(x).rstrip(\"%\")).astype(float)\n",
        "final_data[\"int_rate\"]"
      ],
      "metadata": {
        "id": "P2tsIfKI7pzK",
        "colab": {
          "base_uri": "https://localhost:8080/"
        },
        "outputId": "6e89b440-54ee-4358-b13b-01b0ff687338"
      },
      "execution_count": null,
      "outputs": [
        {
          "output_type": "stream",
          "name": "stderr",
          "text": [
            "/usr/local/lib/python3.7/dist-packages/ipykernel_launcher.py:1: SettingWithCopyWarning: \n",
            "A value is trying to be set on a copy of a slice from a DataFrame.\n",
            "Try using .loc[row_indexer,col_indexer] = value instead\n",
            "\n",
            "See the caveats in the documentation: https://pandas.pydata.org/pandas-docs/stable/user_guide/indexing.html#returning-a-view-versus-a-copy\n",
            "  \"\"\"Entry point for launching an IPython kernel.\n"
          ]
        },
        {
          "output_type": "execute_result",
          "data": {
            "text/plain": [
              "0        10.65\n",
              "1        15.27\n",
              "2        15.96\n",
              "3        13.49\n",
              "4        12.69\n",
              "         ...  \n",
              "39712     8.07\n",
              "39713    10.28\n",
              "39714     8.07\n",
              "39715     7.43\n",
              "39716    13.75\n",
              "Name: int_rate, Length: 39717, dtype: float64"
            ]
          },
          "metadata": {},
          "execution_count": 63
        }
      ]
    },
    {
      "cell_type": "code",
      "source": [
        "final_data=final_data[~final_data[\"emp_length\"].isnull()]\n",
        "final_data=final_data[~final_data[\"revol_util\"].isnull()]\n",
        "final_data['home_ownership'] = final_data[\"home_ownership\"].str.replace('NONE','RENT')\n"
      ],
      "metadata": {
        "id": "wK2zHVf-nUOy"
      },
      "execution_count": null,
      "outputs": []
    },
    {
      "cell_type": "code",
      "source": [
        "final_data.shape"
      ],
      "metadata": {
        "id": "5J4xZYjKnv80",
        "colab": {
          "base_uri": "https://localhost:8080/"
        },
        "outputId": "03102adf-0083-4ee8-ab44-cd8fbccee8f1"
      },
      "execution_count": null,
      "outputs": [
        {
          "output_type": "execute_result",
          "data": {
            "text/plain": [
              "(38595, 54)"
            ]
          },
          "metadata": {},
          "execution_count": 65
        }
      ]
    },
    {
      "cell_type": "code",
      "source": [
        "### Here there are still some variables that are not required as the variables are useful Text classification techniques, not useful for predicting defaulters. \n",
        "not_req=[\"id\",\n",
        "   \"delinq_2yrs\",\n",
        "   \"funded_amnt\",\n",
        "   \"emp_title\", \n",
        "   \"pymnt_plan\",\n",
        "   \"url\",  \n",
        "   \"title\", \n",
        "   \"zip_code\",\n",
        "  \"earliest_cr_line\",\n",
        "  \"inq_last_6mths\",\n",
        "  \"open_acc\",\n",
        "  \"pub_rec\",\n",
        "  \"total_acc\",\n",
        "  \"out_prncp\",\n",
        "  \"out_prncp_inv\",\n",
        "  \"total_pymnt\",\n",
        "  \"total_pymnt_inv\",\n",
        "  \"total_rec_prncp\",\n",
        "  \"total_rec_int\",\n",
        "  \"total_rec_late_fee\",\n",
        "  \"recoveries\",\n",
        "  \"collection_recovery_fee\",\n",
        "  \"last_pymnt_d\",\n",
        "  \"last_pymnt_amnt\",\n",
        "  \"last_credit_pull_d\",\n",
        "  \"application_type\"]\n",
        "\n",
        "final_data = final_data.drop(not_req, axis=1)\n"
      ],
      "metadata": {
        "id": "idjErnlNoEgR"
      },
      "execution_count": null,
      "outputs": []
    },
    {
      "cell_type": "code",
      "source": [
        "final_data.info()"
      ],
      "metadata": {
        "id": "RzVkM6bErPzH",
        "colab": {
          "base_uri": "https://localhost:8080/"
        },
        "outputId": "9d1066d3-5fac-4283-da01-d8939fcd70cd"
      },
      "execution_count": null,
      "outputs": [
        {
          "output_type": "stream",
          "name": "stdout",
          "text": [
            "<class 'pandas.core.frame.DataFrame'>\n",
            "Int64Index: 38595 entries, 0 to 39716\n",
            "Data columns (total 28 columns):\n",
            " #   Column                      Non-Null Count  Dtype  \n",
            "---  ------                      --------------  -----  \n",
            " 0   member_id                   38595 non-null  int64  \n",
            " 1   loan_amnt                   38595 non-null  int64  \n",
            " 2   funded_amnt_inv             38595 non-null  float64\n",
            " 3   term                        38595 non-null  int64  \n",
            " 4   int_rate                    38595 non-null  float64\n",
            " 5   installment                 38595 non-null  float64\n",
            " 6   grade                       38595 non-null  object \n",
            " 7   sub_grade                   38595 non-null  object \n",
            " 8   emp_length                  38595 non-null  object \n",
            " 9   home_ownership              38595 non-null  object \n",
            " 10  annual_inc                  38595 non-null  float64\n",
            " 11  verification_status         38595 non-null  object \n",
            " 12  issue_d                     38595 non-null  object \n",
            " 13  loan_status                 38595 non-null  object \n",
            " 14  purpose                     38595 non-null  object \n",
            " 15  addr_state                  38595 non-null  object \n",
            " 16  dti                         38595 non-null  float64\n",
            " 17  mths_since_last_delinq      13677 non-null  float64\n",
            " 18  revol_bal                   38595 non-null  int64  \n",
            " 19  revol_util                  38595 non-null  object \n",
            " 20  initial_list_status         38595 non-null  object \n",
            " 21  collections_12_mths_ex_med  38539 non-null  float64\n",
            " 22  policy_code                 38595 non-null  int64  \n",
            " 23  acc_now_delinq              38595 non-null  int64  \n",
            " 24  chargeoff_within_12_mths    38539 non-null  float64\n",
            " 25  delinq_amnt                 38595 non-null  int64  \n",
            " 26  pub_rec_bankruptcies        37898 non-null  float64\n",
            " 27  tax_liens                   38556 non-null  float64\n",
            "dtypes: float64(10), int64(7), object(11)\n",
            "memory usage: 8.5+ MB\n"
          ]
        }
      ]
    },
    {
      "cell_type": "code",
      "source": [
        "\n",
        "### Remove operators and years string in loan_status variable and convert into integer\n",
        "def extract_values_emp_length(x):\n",
        "\n",
        "  if \"+\" in x:\n",
        "    return str(x).replace(\"+ years\",\"\")\n",
        "\n",
        "  elif (\"<\" in x):\n",
        "    \n",
        "    return 0\n",
        "  else:\n",
        "    return x.replace(\" years\",\"\")\n",
        "\n",
        "\n",
        "  \n"
      ],
      "metadata": {
        "id": "StBcXifvuri1"
      },
      "execution_count": null,
      "outputs": []
    },
    {
      "cell_type": "code",
      "source": [
        "final_data[\"emp_length\"]= final_data[\"emp_length\"].apply(extract_values_emp_length)"
      ],
      "metadata": {
        "id": "FHd04kXiwMht"
      },
      "execution_count": null,
      "outputs": []
    },
    {
      "cell_type": "code",
      "source": [
        "final_data[\"emp_length\"]"
      ],
      "metadata": {
        "id": "lKd9AA2yxiFL",
        "colab": {
          "base_uri": "https://localhost:8080/"
        },
        "outputId": "8fc7e50c-2db7-4f02-8559-eb43e2fb6b40"
      },
      "execution_count": null,
      "outputs": [
        {
          "output_type": "execute_result",
          "data": {
            "text/plain": [
              "0            10\n",
              "1             0\n",
              "2            10\n",
              "3            10\n",
              "4        1 year\n",
              "          ...  \n",
              "39712         4\n",
              "39713         3\n",
              "39714         0\n",
              "39715         0\n",
              "39716         0\n",
              "Name: emp_length, Length: 38595, dtype: object"
            ]
          },
          "metadata": {},
          "execution_count": 70
        }
      ]
    },
    {
      "cell_type": "code",
      "source": [
        "final_data[\"emp_length\"]=final_data[\"emp_length\"].apply(lambda x: x.strip(\" year\") if \" year\" in str(x) else x)"
      ],
      "metadata": {
        "id": "zaA5nP1yAKZt"
      },
      "execution_count": null,
      "outputs": []
    },
    {
      "cell_type": "code",
      "source": [
        "final_data[\"emp_length\"]=final_data[\"emp_length\"].astype('int')"
      ],
      "metadata": {
        "id": "L6O1_9xrCCMD"
      },
      "execution_count": null,
      "outputs": []
    },
    {
      "cell_type": "code",
      "source": [
        "final_data.info()"
      ],
      "metadata": {
        "id": "63suyiLjHxNw",
        "colab": {
          "base_uri": "https://localhost:8080/"
        },
        "outputId": "5b57badf-18bc-4732-f070-c830924f3c72"
      },
      "execution_count": null,
      "outputs": [
        {
          "output_type": "stream",
          "name": "stdout",
          "text": [
            "<class 'pandas.core.frame.DataFrame'>\n",
            "Int64Index: 38595 entries, 0 to 39716\n",
            "Data columns (total 28 columns):\n",
            " #   Column                      Non-Null Count  Dtype  \n",
            "---  ------                      --------------  -----  \n",
            " 0   member_id                   38595 non-null  int64  \n",
            " 1   loan_amnt                   38595 non-null  int64  \n",
            " 2   funded_amnt_inv             38595 non-null  float64\n",
            " 3   term                        38595 non-null  int64  \n",
            " 4   int_rate                    38595 non-null  float64\n",
            " 5   installment                 38595 non-null  float64\n",
            " 6   grade                       38595 non-null  object \n",
            " 7   sub_grade                   38595 non-null  object \n",
            " 8   emp_length                  38595 non-null  int64  \n",
            " 9   home_ownership              38595 non-null  object \n",
            " 10  annual_inc                  38595 non-null  float64\n",
            " 11  verification_status         38595 non-null  object \n",
            " 12  issue_d                     38595 non-null  object \n",
            " 13  loan_status                 38595 non-null  object \n",
            " 14  purpose                     38595 non-null  object \n",
            " 15  addr_state                  38595 non-null  object \n",
            " 16  dti                         38595 non-null  float64\n",
            " 17  mths_since_last_delinq      13677 non-null  float64\n",
            " 18  revol_bal                   38595 non-null  int64  \n",
            " 19  revol_util                  38595 non-null  object \n",
            " 20  initial_list_status         38595 non-null  object \n",
            " 21  collections_12_mths_ex_med  38539 non-null  float64\n",
            " 22  policy_code                 38595 non-null  int64  \n",
            " 23  acc_now_delinq              38595 non-null  int64  \n",
            " 24  chargeoff_within_12_mths    38539 non-null  float64\n",
            " 25  delinq_amnt                 38595 non-null  int64  \n",
            " 26  pub_rec_bankruptcies        37898 non-null  float64\n",
            " 27  tax_liens                   38556 non-null  float64\n",
            "dtypes: float64(10), int64(8), object(10)\n",
            "memory usage: 8.5+ MB\n"
          ]
        }
      ]
    },
    {
      "cell_type": "code",
      "source": [
        "### Here people who are under current category is not much useful as it donot predict anything\n",
        "final_data = final_data[final_data['loan_status'] != 'Current']"
      ],
      "metadata": {
        "id": "ouP-oiA9vDwd"
      },
      "execution_count": null,
      "outputs": []
    },
    {
      "cell_type": "code",
      "source": [
        "final_data.shape"
      ],
      "metadata": {
        "id": "5J4PieXW4ch4",
        "colab": {
          "base_uri": "https://localhost:8080/"
        },
        "outputId": "747402f4-1823-48bf-b27d-edfaf5a9cc50"
      },
      "execution_count": null,
      "outputs": [
        {
          "output_type": "execute_result",
          "data": {
            "text/plain": [
              "(37497, 28)"
            ]
          },
          "metadata": {},
          "execution_count": 75
        }
      ]
    },
    {
      "cell_type": "code",
      "source": [
        "final_data[\"revol_util\"]=final_data[\"revol_util\"].apply(lambda x: x.replace(\"%\",\"\"))\n",
        "final_data[\"revol_util\"]=final_data[\"revol_util\"].astype(float)\n",
        "final_data[\"revol_util\"]=final_data[\"revol_util\"].apply(lambda x: x/100)\n",
        "\n"
      ],
      "metadata": {
        "id": "-7ZHuLDe6ent",
        "colab": {
          "base_uri": "https://localhost:8080/"
        },
        "outputId": "e026bd49-af44-45ce-e46b-eed34fef4e6d"
      },
      "execution_count": null,
      "outputs": [
        {
          "output_type": "stream",
          "name": "stderr",
          "text": [
            "/usr/local/lib/python3.7/dist-packages/ipykernel_launcher.py:1: SettingWithCopyWarning: \n",
            "A value is trying to be set on a copy of a slice from a DataFrame.\n",
            "Try using .loc[row_indexer,col_indexer] = value instead\n",
            "\n",
            "See the caveats in the documentation: https://pandas.pydata.org/pandas-docs/stable/user_guide/indexing.html#returning-a-view-versus-a-copy\n",
            "  \"\"\"Entry point for launching an IPython kernel.\n",
            "/usr/local/lib/python3.7/dist-packages/ipykernel_launcher.py:2: SettingWithCopyWarning: \n",
            "A value is trying to be set on a copy of a slice from a DataFrame.\n",
            "Try using .loc[row_indexer,col_indexer] = value instead\n",
            "\n",
            "See the caveats in the documentation: https://pandas.pydata.org/pandas-docs/stable/user_guide/indexing.html#returning-a-view-versus-a-copy\n",
            "  \n",
            "/usr/local/lib/python3.7/dist-packages/ipykernel_launcher.py:3: SettingWithCopyWarning: \n",
            "A value is trying to be set on a copy of a slice from a DataFrame.\n",
            "Try using .loc[row_indexer,col_indexer] = value instead\n",
            "\n",
            "See the caveats in the documentation: https://pandas.pydata.org/pandas-docs/stable/user_guide/indexing.html#returning-a-view-versus-a-copy\n",
            "  This is separate from the ipykernel package so we can avoid doing imports until\n"
          ]
        }
      ]
    },
    {
      "cell_type": "code",
      "source": [
        "final_data['loan_status'] = final_data['loan_status'].apply(lambda x: 0 if x=='Fully Paid' else 1)"
      ],
      "metadata": {
        "id": "-oq7kLkwiQqJ",
        "colab": {
          "base_uri": "https://localhost:8080/"
        },
        "outputId": "c6743d8a-4162-4215-ac11-fabd012f4423"
      },
      "execution_count": null,
      "outputs": [
        {
          "output_type": "stream",
          "name": "stderr",
          "text": [
            "/usr/local/lib/python3.7/dist-packages/ipykernel_launcher.py:1: SettingWithCopyWarning: \n",
            "A value is trying to be set on a copy of a slice from a DataFrame.\n",
            "Try using .loc[row_indexer,col_indexer] = value instead\n",
            "\n",
            "See the caveats in the documentation: https://pandas.pydata.org/pandas-docs/stable/user_guide/indexing.html#returning-a-view-versus-a-copy\n",
            "  \"\"\"Entry point for launching an IPython kernel.\n"
          ]
        }
      ]
    },
    {
      "cell_type": "code",
      "source": [
        "\n",
        "import datetime\n",
        "final_data['issue_d'] = final_data['issue_d'].apply(lambda x: datetime.datetime.strptime(x, '%b-%y'))\n",
        "final_data['issue_d'] = final_data['issue_d'].apply(lambda x: x.year)\n"
      ],
      "metadata": {
        "id": "-N2VFTi6CGM0"
      },
      "execution_count": null,
      "outputs": []
    },
    {
      "cell_type": "code",
      "source": [],
      "metadata": {
        "id": "pLl70NbGOLQD"
      },
      "execution_count": null,
      "outputs": []
    },
    {
      "cell_type": "markdown",
      "source": [
        "*******************Data Analysis****************"
      ],
      "metadata": {
        "id": "pDNKSv_CoQi9"
      }
    },
    {
      "cell_type": "code",
      "source": [
        "\n",
        "### we can see that Defaulters are more in CA state\n",
        "\n",
        "import matplotlib.pyplot as plt\n",
        "import seaborn as sns\n",
        "plt.figure(figsize=[15, 15])\n",
        "sns.countplot(x='addr_state', data=final_data[final_data['loan_status']==1])\n",
        "plt.title('Loan Defaulters by state')\n",
        "plt.xlabel(\"State\")\n",
        "plt.xticks(rotation=90)\n",
        "plt.ylabel(\"Number of Loan Defaulters\")\n",
        "plt.show()\n",
        "\n",
        "\n",
        "\n",
        "\n",
        "\n"
      ],
      "metadata": {
        "id": "3KtrqqaY7gXd",
        "colab": {
          "base_uri": "https://localhost:8080/",
          "height": 907
        },
        "outputId": "3d5cf151-d72d-4e61-fea6-f4e2040f1886"
      },
      "execution_count": null,
      "outputs": [
        {
          "output_type": "display_data",
          "data": {
            "text/plain": [
              "<Figure size 1080x1080 with 1 Axes>"
            ],
            "image/png": "[encoded data removed]"
          },
          "metadata": {}
        }
      ]
    },
    {
      "cell_type": "code",
      "source": [
        "\n",
        "### From the below graph we can infer that defaulters are more in Grade \"B\",\"C\" in CA state. Grades \"F\" and \"G\" are having less defaulter\n",
        "plt.figure(figsize=[15, 8])\n",
        "chargedoff=final_data[final_data['loan_status']==1]\n",
        "sns.countplot(x='addr_state', hue=\"grade\",data=chargedoff[chargedoff[\"addr_state\"]==\"CA\"])\n",
        "plt.title('Loan Defaulters in CA state')\n",
        "plt.xlabel(\"State\")\n",
        "plt.xticks(rotation=90)\n",
        "plt.ylabel(\"Number of Loan Defaulters\")\n",
        "plt.show()\n",
        "\n"
      ],
      "metadata": {
        "id": "IwHVJo8pTlDm",
        "colab": {
          "base_uri": "https://localhost:8080/",
          "height": 523
        },
        "outputId": "d6162c32-5223-4b60-9dc3-5b28c1f315e6"
      },
      "execution_count": null,
      "outputs": [
        {
          "output_type": "display_data",
          "data": {
            "text/plain": [
              "<Figure size 1080x576 with 1 Axes>"
            ],
            "image/png": "[encoded data removed]"
          },
          "metadata": {}
        }
      ]
    },
    {
      "cell_type": "code",
      "source": [
        "plt.subplot(1,2,1)\n",
        "#plt.figure(figsize=[15, 5])\n",
        "chargedoff=final_data[final_data['loan_status']==1]\n",
        "sns.countplot(x='addr_state', hue=\"home_ownership\",data=chargedoff[chargedoff[\"addr_state\"]==\"CA\"])\n",
        "plt.title('Purpose of loan in CA state')\n",
        "plt.xlabel(\"State\", fontsize=25)\n",
        "plt.xticks(rotation=0,fontsize=20)\n",
        "plt.ylabel(\"Number of Loan Defaulters\", fontsize=25)\n",
        "plt.yticks(rotation=0,fontsize=20)\n",
        "\n",
        "plt.subplot(1,2,2)\n",
        "sns.countplot(x='term', data=chargedoff[chargedoff[\"addr_state\"]==\"CA\"])\n",
        "plt.xlabel(\"Term\", fontsize=25)\n",
        "plt.ylabel(\"Loans issued\", fontsize=25)\n",
        "plt.xticks(rotation=0,fontsize=20)\n",
        "plt.yticks(rotation=0,fontsize=20)\n",
        "plt.show()"
      ],
      "metadata": {
        "colab": {
          "base_uri": "https://localhost:8080/",
          "height": 373
        },
        "id": "rz7VMIezPWgt",
        "outputId": "5e6ac44a-5a55-4ec8-e8dd-d9b133eb7971"
      },
      "execution_count": null,
      "outputs": [
        {
          "output_type": "display_data",
          "data": {
            "text/plain": [
              "<Figure size 2520x576 with 2 Axes>"
            ],
            "image/png": "[encoded data removed]"
          },
          "metadata": {}
        }
      ]
    },
    {
      "cell_type": "code",
      "source": [
        "#We can see that number of defaulters decreasing as experice is increasing. And sudden increase from people who are having 10+ experience.\n",
        "cat_loanstatus = final_data[['emp_length', 'loan_status']]\n",
        "cat_loanstatus = cat_loanstatus.groupby(['emp_length', 'loan_status'])\n",
        "ax=cat_loanstatus.size().unstack().plot(kind='bar', stacked=True, figsize=(10, 8),width=0.8)\n",
        "plt.xlabel(\"No of Years\")\n",
        "plt.ylabel(\"Number of people who took loan\")\n",
        "plt.xticks(rotation=0)\n",
        "\n",
        "\n"
      ],
      "metadata": {
        "id": "W6rmqK-7cVn6",
        "colab": {
          "base_uri": "https://localhost:8080/",
          "height": 539
        },
        "outputId": "b72c0f03-4c47-4795-e9db-e7e3a25a67f5"
      },
      "execution_count": null,
      "outputs": [
        {
          "output_type": "execute_result",
          "data": {
            "text/plain": [
              "(array([ 0,  1,  2,  3,  4,  5,  6,  7,  8,  9, 10]),\n",
              " <a list of 11 Text major ticklabel objects>)"
            ]
          },
          "metadata": {},
          "execution_count": 82
        },
        {
          "output_type": "display_data",
          "data": {
            "text/plain": [
              "<Figure size 720x576 with 1 Axes>"
            ],
            "image/png": "[encoded data removed]"
          },
          "metadata": {}
        }
      ]
    },
    {
      "cell_type": "code",
      "source": [
        "final_data.info()"
      ],
      "metadata": {
        "id": "fy9ixkBsczBH",
        "colab": {
          "base_uri": "https://localhost:8080/"
        },
        "outputId": "7cd9944e-ebc3-4035-8dc1-ec5020c1a2c5"
      },
      "execution_count": null,
      "outputs": [
        {
          "output_type": "stream",
          "name": "stdout",
          "text": [
            "<class 'pandas.core.frame.DataFrame'>\n",
            "Int64Index: 37497 entries, 0 to 39716\n",
            "Data columns (total 28 columns):\n",
            " #   Column                      Non-Null Count  Dtype  \n",
            "---  ------                      --------------  -----  \n",
            " 0   member_id                   37497 non-null  int64  \n",
            " 1   loan_amnt                   37497 non-null  int64  \n",
            " 2   funded_amnt_inv             37497 non-null  float64\n",
            " 3   term                        37497 non-null  int64  \n",
            " 4   int_rate                    37497 non-null  float64\n",
            " 5   installment                 37497 non-null  float64\n",
            " 6   grade                       37497 non-null  object \n",
            " 7   sub_grade                   37497 non-null  object \n",
            " 8   emp_length                  37497 non-null  int64  \n",
            " 9   home_ownership              37497 non-null  object \n",
            " 10  annual_inc                  37497 non-null  float64\n",
            " 11  verification_status         37497 non-null  object \n",
            " 12  issue_d                     37497 non-null  int64  \n",
            " 13  loan_status                 37497 non-null  int64  \n",
            " 14  purpose                     37497 non-null  object \n",
            " 15  addr_state                  37497 non-null  object \n",
            " 16  dti                         37497 non-null  float64\n",
            " 17  mths_since_last_delinq      13325 non-null  float64\n",
            " 18  revol_bal                   37497 non-null  int64  \n",
            " 19  revol_util                  37497 non-null  float64\n",
            " 20  initial_list_status         37497 non-null  object \n",
            " 21  collections_12_mths_ex_med  37441 non-null  float64\n",
            " 22  policy_code                 37497 non-null  int64  \n",
            " 23  acc_now_delinq              37497 non-null  int64  \n",
            " 24  chargeoff_within_12_mths    37441 non-null  float64\n",
            " 25  delinq_amnt                 37497 non-null  int64  \n",
            " 26  pub_rec_bankruptcies        36800 non-null  float64\n",
            " 27  tax_liens                   37458 non-null  float64\n",
            "dtypes: float64(11), int64(10), object(7)\n",
            "memory usage: 8.3+ MB\n"
          ]
        }
      ]
    },
    {
      "cell_type": "code",
      "source": [
        "# we can see here that in each home_onwership small business groups are defaulters.\n",
        "plt.figure(figsize=[10, 8])\n",
        "plot=sns.countplot(x='home_ownership', data=final_data[final_data['loan_status']==1],hue=\"purpose\")\n",
        "plt.xticks(rotation=60)\n",
        "plt.legend(loc='upper right')\n",
        "plt.show()\n"
      ],
      "metadata": {
        "colab": {
          "base_uri": "https://localhost:8080/",
          "height": 552
        },
        "id": "W10O1QxAMEeg",
        "outputId": "942e854d-8e0d-4b5e-c78a-f5eb864ad211"
      },
      "execution_count": null,
      "outputs": [
        {
          "output_type": "display_data",
          "data": {
            "text/plain": [
              "<Figure size 720x576 with 1 Axes>"
            ],
            "image/png": "[encoded data removed]"
          },
          "metadata": {}
        }
      ]
    },
    {
      "cell_type": "code",
      "source": [],
      "metadata": {
        "id": "KCek1LZZHJVx"
      },
      "execution_count": null,
      "outputs": []
    },
    {
      "cell_type": "code",
      "source": [
        "\n",
        "plt.figure(figsize=[15, 5])\n",
        "plt.subplot(1,2,1)\n",
        "\n",
        "sns.histplot(final_data[final_data[\"loan_status\"]==1][\"dti\"], color='y', bins=10)\n",
        "\n",
        "plt.title(' distribution of Debt-To-Income ratio who are chargedoff')\n",
        "plt.xlabel('DTI')\n",
        "plt.figure(figsize=[15, 5])\n",
        "plt.subplot(1,2,2)\n",
        "\n",
        "sns.histplot(final_data[final_data[\"loan_status\"]==0][\"dti\"], color='y', bins=10)\n",
        "\n",
        "plt.title(' distribution of Debt-To-Income ratio who are fully paid')\n",
        "plt.xlabel('DTI')\n",
        "# Most of the people who have DTI in between 10 to 15 are taking loans"
      ],
      "metadata": {
        "colab": {
          "base_uri": "https://localhost:8080/",
          "height": 711
        },
        "id": "43YR4lXAo50g",
        "outputId": "128cf3e0-f4e8-4ba2-9c0d-ce4bf5c94033"
      },
      "execution_count": null,
      "outputs": [
        {
          "output_type": "execute_result",
          "data": {
            "text/plain": [
              "Text(0.5, 0, 'DTI')"
            ]
          },
          "metadata": {},
          "execution_count": 126
        },
        {
          "output_type": "display_data",
          "data": {
            "text/plain": [
              "<Figure size 1080x360 with 1 Axes>"
            ],
            "image/png": "[encoded data removed]"
          },
          "metadata": {}
        },
        {
          "output_type": "display_data",
          "data": {
            "text/plain": [
              "<Figure size 1080x360 with 1 Axes>"
            ],
            "image/png": "[encoded data removed]"
          },
          "metadata": {}
        }
      ]
    },
    {
      "cell_type": "code",
      "source": [
        "# from the below graph we can conclude that people with lowest grade have high interest rates.\n",
        "sns.barplot(x='grade',y='int_rate', data=final_data, order=final_data['grade'].value_counts().index)\n",
        "plt.xticks(rotation=0,fontsize=20)\n",
        "plt.yticks(rotation=0,fontsize=20)\n",
        "plt.show();\n"
      ],
      "metadata": {
        "colab": {
          "base_uri": "https://localhost:8080/",
          "height": 511
        },
        "id": "hbsEWb-p4OMM",
        "outputId": "f8b6c005-1726-4900-c022-551de340571c"
      },
      "execution_count": null,
      "outputs": [
        {
          "output_type": "display_data",
          "data": {
            "text/plain": [
              "<Figure size 720x576 with 1 Axes>"
            ],
            "image/png": "[encoded data removed]"
          },
          "metadata": {}
        }
      ]
    },
    {
      "cell_type": "code",
      "source": [],
      "metadata": {
        "id": "EUli8Wwpkei9"
      },
      "execution_count": null,
      "outputs": []
    },
    {
      "cell_type": "code",
      "source": [
        "plt.figure(figsize=[10, 10])\n",
        "sns.countplot(x='grade', hue=\"loan_status\" ,data=final_data[final_data['purpose']==\"debt_consolidation\" ])"
      ],
      "metadata": {
        "colab": {
          "base_uri": "https://localhost:8080/",
          "height": 629
        },
        "id": "JDvE3ldmSp0p",
        "outputId": "35631f6d-e96f-4ea3-f219-05e06291a00e"
      },
      "execution_count": null,
      "outputs": [
        {
          "output_type": "execute_result",
          "data": {
            "text/plain": [
              "<matplotlib.axes._subplots.AxesSubplot at 0x7f567d7615d0>"
            ]
          },
          "metadata": {},
          "execution_count": 128
        },
        {
          "output_type": "display_data",
          "data": {
            "text/plain": [
              "<Figure size 720x720 with 1 Axes>"
            ],
            "image/png": "[encoded data removed]"
          },
          "metadata": {}
        }
      ]
    },
    {
      "cell_type": "code",
      "source": [
        "plt.figure(figsize=(20,5))\n",
        "#Number of loans is very high for the people who are not been verified.\n",
        "plt.subplot(1,2,1)\n",
        "sns.countplot(x='verification_status', data=final_data)\n",
        "plt.title('Distribution of Loan by Verification Status')\n",
        "plt.xlabel(\" Verification Status\")\n",
        "plt.ylabel(\"Loans issued\")\n",
        "\n",
        "# Here Defaulters are more whose verification is done .\n",
        "plt.subplot(1,2,2)\n",
        "sns.countplot(x=final_data[\"verification_status\"], hue=\"loan_status\", data=final_data)\n",
        "plt.title('Distribution of Loan status by Verification Status')"
      ],
      "metadata": {
        "id": "FZqNhpvN5k-b",
        "colab": {
          "base_uri": "https://localhost:8080/",
          "height": 373
        },
        "outputId": "4e1d471f-ad88-432d-cf6a-99a141b36eaa"
      },
      "execution_count": null,
      "outputs": [
        {
          "output_type": "execute_result",
          "data": {
            "text/plain": [
              "Text(0.5, 1.0, 'Distribution of Loan status by Verification Status')"
            ]
          },
          "metadata": {},
          "execution_count": 131
        },
        {
          "output_type": "display_data",
          "data": {
            "text/plain": [
              "<Figure size 1440x360 with 2 Axes>"
            ],
            "image/png": "[encoded data removed]"
          },
          "metadata": {}
        }
      ]
    },
    {
      "cell_type": "code",
      "source": [
        "plt.figure(figsize=[10, 5])\n",
        "sns.countplot(x='issue_d', hue='loan_status', data=final_data)\n",
        "plt.legend(loc='upper left')\n",
        "plt.show()\n",
        "#From the below graph , we can conclude that loan sanctions are getting increased year by year"
      ],
      "metadata": {
        "colab": {
          "base_uri": "https://localhost:8080/",
          "height": 339
        },
        "id": "rcJJ2XZwOkLF",
        "outputId": "efbd57df-ec8f-4a65-fb94-24f4e4a18fc0"
      },
      "execution_count": null,
      "outputs": [
        {
          "output_type": "display_data",
          "data": {
            "text/plain": [
              "<Figure size 720x360 with 1 Axes>"
            ],
            "image/png": "[encoded data removed]"
          },
          "metadata": {}
        }
      ]
    },
    {
      "cell_type": "code",
      "source": [
        "final_data.groupby(['issue_d',\"loan_status\"])[\"member_id\"].count()"
      ],
      "metadata": {
        "colab": {
          "base_uri": "https://localhost:8080/",
          "height": 487
        },
        "id": "ETTr56XkzBSn",
        "outputId": "1f3eb32c-8102-4c66-fdb4-e4d2087468e8"
      },
      "execution_count": null,
      "outputs": [
        {
          "output_type": "execute_result",
          "data": {
            "text/plain": [
              "                     member_id  loan_amnt  funded_amnt_inv   term  int_rate  \\\n",
              "issue_d loan_status                                                           \n",
              "2007    0                  206        206              206    206       206   \n",
              "        1                   45         45               45     45        45   \n",
              "2008    0                 1311       1311             1311   1311      1311   \n",
              "        1                  243        243              243    243       243   \n",
              "2009    0                 4111       4111             4111   4111      4111   \n",
              "        1                  591        591              591    591       591   \n",
              "2010    0                 9790       9790             9790   9790      9790   \n",
              "        1                 1406       1406             1406   1406      1406   \n",
              "2011    0                16695      16695            16695  16695     16695   \n",
              "        1                 3099       3099             3099   3099      3099   \n",
              "\n",
              "                     installment  grade  sub_grade  emp_length  \\\n",
              "issue_d loan_status                                              \n",
              "2007    0                    206    206        206         206   \n",
              "        1                     45     45         45          45   \n",
              "2008    0                   1311   1311       1311        1311   \n",
              "        1                    243    243        243         243   \n",
              "2009    0                   4111   4111       4111        4111   \n",
              "        1                    591    591        591         591   \n",
              "2010    0                   9790   9790       9790        9790   \n",
              "        1                   1406   1406       1406        1406   \n",
              "2011    0                  16695  16695      16695       16695   \n",
              "        1                   3099   3099       3099        3099   \n",
              "\n",
              "                     home_ownership  ...  revol_bal  revol_util  \\\n",
              "issue_d loan_status                  ...                          \n",
              "2007    0                       206  ...        206         206   \n",
              "        1                        45  ...         45          45   \n",
              "2008    0                      1311  ...       1311        1311   \n",
              "        1                       243  ...        243         243   \n",
              "2009    0                      4111  ...       4111        4111   \n",
              "        1                       591  ...        591         591   \n",
              "2010    0                      9790  ...       9790        9790   \n",
              "        1                      1406  ...       1406        1406   \n",
              "2011    0                     16695  ...      16695       16695   \n",
              "        1                      3099  ...       3099        3099   \n",
              "\n",
              "                     initial_list_status  collections_12_mths_ex_med  \\\n",
              "issue_d loan_status                                                    \n",
              "2007    0                            206                         156   \n",
              "        1                             45                          39   \n",
              "2008    0                           1311                        1311   \n",
              "        1                            243                         243   \n",
              "2009    0                           4111                        4111   \n",
              "        1                            591                         591   \n",
              "2010    0                           9790                        9790   \n",
              "        1                           1406                        1406   \n",
              "2011    0                          16695                       16695   \n",
              "        1                           3099                        3099   \n",
              "\n",
              "                     policy_code  acc_now_delinq  chargeoff_within_12_mths  \\\n",
              "issue_d loan_status                                                          \n",
              "2007    0                    206             206                       156   \n",
              "        1                     45              45                        39   \n",
              "2008    0                   1311            1311                      1311   \n",
              "        1                    243             243                       243   \n",
              "2009    0                   4111            4111                      4111   \n",
              "        1                    591             591                       591   \n",
              "2010    0                   9790            9790                      9790   \n",
              "        1                   1406            1406                      1406   \n",
              "2011    0                  16695           16695                     16695   \n",
              "        1                   3099            3099                      3099   \n",
              "\n",
              "                     delinq_amnt  pub_rec_bankruptcies  tax_liens  \n",
              "issue_d loan_status                                                \n",
              "2007    0                    206                     5        168  \n",
              "        1                     45                     2         44  \n",
              "2008    0                   1311                   935       1311  \n",
              "        1                    243                   169        243  \n",
              "2009    0                   4111                  4109       4111  \n",
              "        1                    591                   590        591  \n",
              "2010    0                   9790                  9790       9790  \n",
              "        1                   1406                  1406       1406  \n",
              "2011    0                  16695                 16695      16695  \n",
              "        1                   3099                  3099       3099  \n",
              "\n",
              "[10 rows x 26 columns]"
            ],
            "text/html": [
              "\n",
              "  <div id=\"df-81b5107a-4593-4ebc-9b19-d9298d0a05ed\">\n",
              "    <div class=\"colab-df-container\">\n",
              "      <div>\n",
              "<style scoped>\n",
              "    .dataframe tbody tr th:only-of-type {\n",
              "        vertical-align: middle;\n",
              "    }\n",
              "\n",
              "    .dataframe tbody tr th {\n",
              "        vertical-align: top;\n",
              "    }\n",
              "\n",
              "    .dataframe thead th {\n",
              "        text-align: right;\n",
              "    }\n",
              "</style>\n",
              "<table border=\"1\" class=\"dataframe\">\n",
              "  <thead>\n",
              "    <tr style=\"text-align: right;\">\n",
              "      <th></th>\n",
              "      <th></th>\n",
              "      <th>member_id</th>\n",
              "      <th>loan_amnt</th>\n",
              "      <th>funded_amnt_inv</th>\n",
              "      <th>term</th>\n",
              "      <th>int_rate</th>\n",
              "      <th>installment</th>\n",
              "      <th>grade</th>\n",
              "      <th>sub_grade</th>\n",
              "      <th>emp_length</th>\n",
              "      <th>home_ownership</th>\n",
              "      <th>...</th>\n",
              "      <th>revol_bal</th>\n",
              "      <th>revol_util</th>\n",
              "      <th>initial_list_status</th>\n",
              "      <th>collections_12_mths_ex_med</th>\n",
              "      <th>policy_code</th>\n",
              "      <th>acc_now_delinq</th>\n",
              "      <th>chargeoff_within_12_mths</th>\n",
              "      <th>delinq_amnt</th>\n",
              "      <th>pub_rec_bankruptcies</th>\n",
              "      <th>tax_liens</th>\n",
              "    </tr>\n",
              "    <tr>\n",
              "      <th>issue_d</th>\n",
              "      <th>loan_status</th>\n",
              "      <th></th>\n",
              "      <th></th>\n",
              "      <th></th>\n",
              "      <th></th>\n",
              "      <th></th>\n",
              "      <th></th>\n",
              "      <th></th>\n",
              "      <th></th>\n",
              "      <th></th>\n",
              "      <th></th>\n",
              "      <th></th>\n",
              "      <th></th>\n",
              "      <th></th>\n",
              "      <th></th>\n",
              "      <th></th>\n",
              "      <th></th>\n",
              "      <th></th>\n",
              "      <th></th>\n",
              "      <th></th>\n",
              "      <th></th>\n",
              "      <th></th>\n",
              "    </tr>\n",
              "  </thead>\n",
              "  <tbody>\n",
              "    <tr>\n",
              "      <th rowspan=\"2\" valign=\"top\">2007</th>\n",
              "      <th>0</th>\n",
              "      <td>206</td>\n",
              "      <td>206</td>\n",
              "      <td>206</td>\n",
              "      <td>206</td>\n",
              "      <td>206</td>\n",
              "      <td>206</td>\n",
              "      <td>206</td>\n",
              "      <td>206</td>\n",
              "      <td>206</td>\n",
              "      <td>206</td>\n",
              "      <td>...</td>\n",
              "      <td>206</td>\n",
              "      <td>206</td>\n",
              "      <td>206</td>\n",
              "      <td>156</td>\n",
              "      <td>206</td>\n",
              "      <td>206</td>\n",
              "      <td>156</td>\n",
              "      <td>206</td>\n",
              "      <td>5</td>\n",
              "      <td>168</td>\n",
              "    </tr>\n",
              "    <tr>\n",
              "      <th>1</th>\n",
              "      <td>45</td>\n",
              "      <td>45</td>\n",
              "      <td>45</td>\n",
              "      <td>45</td>\n",
              "      <td>45</td>\n",
              "      <td>45</td>\n",
              "      <td>45</td>\n",
              "      <td>45</td>\n",
              "      <td>45</td>\n",
              "      <td>45</td>\n",
              "      <td>...</td>\n",
              "      <td>45</td>\n",
              "      <td>45</td>\n",
              "      <td>45</td>\n",
              "      <td>39</td>\n",
              "      <td>45</td>\n",
              "      <td>45</td>\n",
              "      <td>39</td>\n",
              "      <td>45</td>\n",
              "      <td>2</td>\n",
              "      <td>44</td>\n",
              "    </tr>\n",
              "    <tr>\n",
              "      <th rowspan=\"2\" valign=\"top\">2008</th>\n",
              "      <th>0</th>\n",
              "      <td>1311</td>\n",
              "      <td>1311</td>\n",
              "      <td>1311</td>\n",
              "      <td>1311</td>\n",
              "      <td>1311</td>\n",
              "      <td>1311</td>\n",
              "      <td>1311</td>\n",
              "      <td>1311</td>\n",
              "      <td>1311</td>\n",
              "      <td>1311</td>\n",
              "      <td>...</td>\n",
              "      <td>1311</td>\n",
              "      <td>1311</td>\n",
              "      <td>1311</td>\n",
              "      <td>1311</td>\n",
              "      <td>1311</td>\n",
              "      <td>1311</td>\n",
              "      <td>1311</td>\n",
              "      <td>1311</td>\n",
              "      <td>935</td>\n",
              "      <td>1311</td>\n",
              "    </tr>\n",
              "    <tr>\n",
              "      <th>1</th>\n",
              "      <td>243</td>\n",
              "      <td>243</td>\n",
              "      <td>243</td>\n",
              "      <td>243</td>\n",
              "      <td>243</td>\n",
              "      <td>243</td>\n",
              "      <td>243</td>\n",
              "      <td>243</td>\n",
              "      <td>243</td>\n",
              "      <td>243</td>\n",
              "      <td>...</td>\n",
              "      <td>243</td>\n",
              "      <td>243</td>\n",
              "      <td>243</td>\n",
              "      <td>243</td>\n",
              "      <td>243</td>\n",
              "      <td>243</td>\n",
              "      <td>243</td>\n",
              "      <td>243</td>\n",
              "      <td>169</td>\n",
              "      <td>243</td>\n",
              "    </tr>\n",
              "    <tr>\n",
              "      <th rowspan=\"2\" valign=\"top\">2009</th>\n",
              "      <th>0</th>\n",
              "      <td>4111</td>\n",
              "      <td>4111</td>\n",
              "      <td>4111</td>\n",
              "      <td>4111</td>\n",
              "      <td>4111</td>\n",
              "      <td>4111</td>\n",
              "      <td>4111</td>\n",
              "      <td>4111</td>\n",
              "      <td>4111</td>\n",
              "      <td>4111</td>\n",
              "      <td>...</td>\n",
              "      <td>4111</td>\n",
              "      <td>4111</td>\n",
              "      <td>4111</td>\n",
              "      <td>4111</td>\n",
              "      <td>4111</td>\n",
              "      <td>4111</td>\n",
              "      <td>4111</td>\n",
              "      <td>4111</td>\n",
              "      <td>4109</td>\n",
              "      <td>4111</td>\n",
              "    </tr>\n",
              "    <tr>\n",
              "      <th>1</th>\n",
              "      <td>591</td>\n",
              "      <td>591</td>\n",
              "      <td>591</td>\n",
              "      <td>591</td>\n",
              "      <td>591</td>\n",
              "      <td>591</td>\n",
              "      <td>591</td>\n",
              "      <td>591</td>\n",
              "      <td>591</td>\n",
              "      <td>591</td>\n",
              "      <td>...</td>\n",
              "      <td>591</td>\n",
              "      <td>591</td>\n",
              "      <td>591</td>\n",
              "      <td>591</td>\n",
              "      <td>591</td>\n",
              "      <td>591</td>\n",
              "      <td>591</td>\n",
              "      <td>591</td>\n",
              "      <td>590</td>\n",
              "      <td>591</td>\n",
              "    </tr>\n",
              "    <tr>\n",
              "      <th rowspan=\"2\" valign=\"top\">2010</th>\n",
              "      <th>0</th>\n",
              "      <td>9790</td>\n",
              "      <td>9790</td>\n",
              "      <td>9790</td>\n",
              "      <td>9790</td>\n",
              "      <td>9790</td>\n",
              "      <td>9790</td>\n",
              "      <td>9790</td>\n",
              "      <td>9790</td>\n",
              "      <td>9790</td>\n",
              "      <td>9790</td>\n",
              "      <td>...</td>\n",
              "      <td>9790</td>\n",
              "      <td>9790</td>\n",
              "      <td>9790</td>\n",
              "      <td>9790</td>\n",
              "      <td>9790</td>\n",
              "      <td>9790</td>\n",
              "      <td>9790</td>\n",
              "      <td>9790</td>\n",
              "      <td>9790</td>\n",
              "      <td>9790</td>\n",
              "    </tr>\n",
              "    <tr>\n",
              "      <th>1</th>\n",
              "      <td>1406</td>\n",
              "      <td>1406</td>\n",
              "      <td>1406</td>\n",
              "      <td>1406</td>\n",
              "      <td>1406</td>\n",
              "      <td>1406</td>\n",
              "      <td>1406</td>\n",
              "      <td>1406</td>\n",
              "      <td>1406</td>\n",
              "      <td>1406</td>\n",
              "      <td>...</td>\n",
              "      <td>1406</td>\n",
              "      <td>1406</td>\n",
              "      <td>1406</td>\n",
              "      <td>1406</td>\n",
              "      <td>1406</td>\n",
              "      <td>1406</td>\n",
              "      <td>1406</td>\n",
              "      <td>1406</td>\n",
              "      <td>1406</td>\n",
              "      <td>1406</td>\n",
              "    </tr>\n",
              "    <tr>\n",
              "      <th rowspan=\"2\" valign=\"top\">2011</th>\n",
              "      <th>0</th>\n",
              "      <td>16695</td>\n",
              "      <td>16695</td>\n",
              "      <td>16695</td>\n",
              "      <td>16695</td>\n",
              "      <td>16695</td>\n",
              "      <td>16695</td>\n",
              "      <td>16695</td>\n",
              "      <td>16695</td>\n",
              "      <td>16695</td>\n",
              "      <td>16695</td>\n",
              "      <td>...</td>\n",
              "      <td>16695</td>\n",
              "      <td>16695</td>\n",
              "      <td>16695</td>\n",
              "      <td>16695</td>\n",
              "      <td>16695</td>\n",
              "      <td>16695</td>\n",
              "      <td>16695</td>\n",
              "      <td>16695</td>\n",
              "      <td>16695</td>\n",
              "      <td>16695</td>\n",
              "    </tr>\n",
              "    <tr>\n",
              "      <th>1</th>\n",
              "      <td>3099</td>\n",
              "      <td>3099</td>\n",
              "      <td>3099</td>\n",
              "      <td>3099</td>\n",
              "      <td>3099</td>\n",
              "      <td>3099</td>\n",
              "      <td>3099</td>\n",
              "      <td>3099</td>\n",
              "      <td>3099</td>\n",
              "      <td>3099</td>\n",
              "      <td>...</td>\n",
              "      <td>3099</td>\n",
              "      <td>3099</td>\n",
              "      <td>3099</td>\n",
              "      <td>3099</td>\n",
              "      <td>3099</td>\n",
              "      <td>3099</td>\n",
              "      <td>3099</td>\n",
              "      <td>3099</td>\n",
              "      <td>3099</td>\n",
              "      <td>3099</td>\n",
              "    </tr>\n",
              "  </tbody>\n",
              "</table>\n",
              "<p>10 rows × 26 columns</p>\n",
              "</div>\n",
              "      <button class=\"colab-df-convert\" onclick=\"convertToInteractive('df-81b5107a-4593-4ebc-9b19-d9298d0a05ed')\"\n",
              "              title=\"Convert this dataframe to an interactive table.\"\n",
              "              style=\"display:none;\">\n",
              "        \n",
              "  <svg xmlns=\"http://www.w3.org/2000/svg\" height=\"24px\"viewBox=\"0 0 24 24\"\n",
              "       width=\"24px\">\n",
              "    <path d=\"M0 0h24v24H0V0z\" fill=\"none\"/>\n",
              "    <path d=\"M18.56 5.44l.94 2.06.94-2.06 2.06-.94-2.06-.94-.94-2.06-.94 2.06-2.06.94zm-11 1L8.5 8.5l.94-2.06 2.06-.94-2.06-.94L8.5 2.5l-.94 2.06-2.06.94zm10 10l.94 2.06.94-2.06 2.06-.94-2.06-.94-.94-2.06-.94 2.06-2.06.94z\"/><path d=\"M17.41 7.96l-1.37-1.37c-.4-.4-.92-.59-1.43-.59-.52 0-1.04.2-1.43.59L10.3 9.45l-7.72 7.72c-.78.78-.78 2.05 0 2.83L4 21.41c.39.39.9.59 1.41.59.51 0 1.02-.2 1.41-.59l7.78-7.78 2.81-2.81c.8-.78.8-2.07 0-2.86zM5.41 20L4 18.59l7.72-7.72 1.47 1.35L5.41 20z\"/>\n",
              "  </svg>\n",
              "      </button>\n",
              "      \n",
              "  <style>\n",
              "    .colab-df-container {\n",
              "      display:flex;\n",
              "      flex-wrap:wrap;\n",
              "      gap: 12px;\n",
              "    }\n",
              "\n",
              "    .colab-df-convert {\n",
              "      background-color: #E8F0FE;\n",
              "      border: none;\n",
              "      border-radius: 50%;\n",
              "      cursor: pointer;\n",
              "      display: none;\n",
              "      fill: #1967D2;\n",
              "      height: 32px;\n",
              "      padding: 0 0 0 0;\n",
              "      width: 32px;\n",
              "    }\n",
              "\n",
              "    .colab-df-convert:hover {\n",
              "      background-color: #E2EBFA;\n",
              "      box-shadow: 0px 1px 2px rgba(60, 64, 67, 0.3), 0px 1px 3px 1px rgba(60, 64, 67, 0.15);\n",
              "      fill: #174EA6;\n",
              "    }\n",
              "\n",
              "    [theme=dark] .colab-df-convert {\n",
              "      background-color: #3B4455;\n",
              "      fill: #D2E3FC;\n",
              "    }\n",
              "\n",
              "    [theme=dark] .colab-df-convert:hover {\n",
              "      background-color: #434B5C;\n",
              "      box-shadow: 0px 1px 3px 1px rgba(0, 0, 0, 0.15);\n",
              "      filter: drop-shadow(0px 1px 2px rgba(0, 0, 0, 0.3));\n",
              "      fill: #FFFFFF;\n",
              "    }\n",
              "  </style>\n",
              "\n",
              "      <script>\n",
              "        const buttonEl =\n",
              "          document.querySelector('#df-81b5107a-4593-4ebc-9b19-d9298d0a05ed button.colab-df-convert');\n",
              "        buttonEl.style.display =\n",
              "          google.colab.kernel.accessAllowed ? 'block' : 'none';\n",
              "\n",
              "        async function convertToInteractive(key) {\n",
              "          const element = document.querySelector('#df-81b5107a-4593-4ebc-9b19-d9298d0a05ed');\n",
              "          const dataTable =\n",
              "            await google.colab.kernel.invokeFunction('convertToInteractive',\n",
              "                                                     [key], {});\n",
              "          if (!dataTable) return;\n",
              "\n",
              "          const docLinkHtml = 'Like what you see? Visit the ' +\n",
              "            '<a target=\"_blank\" href=https://colab.research.google.com/notebooks/data_table.ipynb>data table notebook</a>'\n",
              "            + ' to learn more about interactive tables.';\n",
              "          element.innerHTML = '';\n",
              "          dataTable['output_type'] = 'display_data';\n",
              "          await google.colab.output.renderOutput(dataTable, element);\n",
              "          const docLink = document.createElement('div');\n",
              "          docLink.innerHTML = docLinkHtml;\n",
              "          element.appendChild(docLink);\n",
              "        }\n",
              "      </script>\n",
              "    </div>\n",
              "  </div>\n",
              "  "
            ]
          },
          "metadata": {},
          "execution_count": 144
        }
      ]
    }
  ]
}